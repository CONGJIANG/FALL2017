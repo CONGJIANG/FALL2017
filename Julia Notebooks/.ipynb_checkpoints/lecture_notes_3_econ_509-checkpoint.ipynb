{
 "cells": [
  {
   "cell_type": "markdown",
   "metadata": {},
   "source": [
    "# Problem 1\n",
    "Find the zero of $3x^3 + 2x - 4$ using the bisection method. "
   ]
  },
  {
   "cell_type": "code",
   "execution_count": 1,
   "metadata": {
    "collapsed": false
   },
   "outputs": [
    {
     "name": "stdout",
     "output_type": "stream",
     "text": [
      "  0.002851 seconds (148 allocations: 4.063 KB)\n",
      "The root is at 0.9013976529240608.\n"
     ]
    }
   ],
   "source": [
    "# Initialize bounds\n",
    "lb = -4.\n",
    "ub = 4.\n",
    "# Initialize tolerance\n",
    "tol = 1.e-8\n",
    "\n",
    "function f1(x::Float64)\n",
    "    return 3.0*x^3 + 2.*x - 4.\n",
    "end\n",
    "\n",
    "# Starting point\n",
    "x = (lb+ub)/2.\n",
    "# Initial difference\n",
    "d = (ub-lb)/2.\n",
    "\n",
    "@time while d > tol\n",
    "    d = d/2.\n",
    "    # If guess is same sign as lower bound, search higher, else search lower\n",
    "    if sign(f1(lb)) == sign(f1(x))\n",
    "        lb = x\n",
    "        x = x + d\n",
    "    else\n",
    "        ub = x\n",
    "        x = x - d\n",
    "    end\n",
    "end\n",
    "println(\"The root is at $x.\")"
   ]
  },
  {
   "cell_type": "markdown",
   "metadata": {},
   "source": [
    "# Problem 2\n",
    "Find the fixed point of $x^{-1/2}$ using function iteration."
   ]
  },
  {
   "cell_type": "code",
   "execution_count": 2,
   "metadata": {
    "collapsed": false
   },
   "outputs": [
    {
     "name": "stdout",
     "output_type": "stream",
     "text": [
      "  0.004974 seconds (179 allocations: 6.141 KB)\n",
      "The root is at 0.9999999999832465.\n"
     ]
    }
   ],
   "source": [
    "# Initialize difference\n",
    "d = 1.0e10\n",
    "# Initialize tolerance\n",
    "tol = 1.e-10\n",
    "# Initial old value\n",
    "x_old = 10.\n",
    "\n",
    "\n",
    "# Same function\n",
    "function f2(x::Float64)\n",
    "    return x^(-1/2)\n",
    "end\n",
    "\n",
    "@time while abs(d) > tol\n",
    "    x = f2(x_old)\n",
    "    d = x - x_old\n",
    "    x_old = x\n",
    "end\n",
    "println(\"The root is at $x.\")"
   ]
  },
  {
   "cell_type": "markdown",
   "metadata": {},
   "source": [
    "# Problem 3\n",
    "Find the zero of $3x^3 + 2x - 4$ using using Newton's method."
   ]
  },
  {
   "cell_type": "code",
   "execution_count": 1,
   "metadata": {
    "collapsed": false
   },
   "outputs": [
    {
     "name": "stdout",
     "output_type": "stream",
     "text": [
      "  0.004620 seconds (102 allocations: 5.094 KB)\n",
      "The root is at 0.9013984451014955.\n"
     ]
    }
   ],
   "source": [
    "# Initialize tolerance\n",
    "tol = 1.e-5\n",
    "# Initial old value and new value\n",
    "x_old = -2.\n",
    "x = 0.\n",
    "\n",
    "# Function\n",
    "function f3(x::Float64)\n",
    "    return 3x^3+2x-4\n",
    "end\n",
    "\n",
    "# Derivative\n",
    "function f3_prime(x::Float64)\n",
    "    return 9x^2+2\n",
    "end\n",
    "\n",
    "@time while abs(f3(x_old)) > tol\n",
    "    x = x_old - f3(x_old)/f3_prime(x_old)\n",
    "    x_old = x\n",
    "end\n",
    "println(\"The root is at $x.\")"
   ]
  }
 ],
 "metadata": {
  "kernelspec": {
   "display_name": "Julia 0.5.2",
   "language": "julia",
   "name": "julia-0.5"
  },
  "language_info": {
   "file_extension": ".jl",
   "mimetype": "application/julia",
   "name": "julia",
   "version": "0.5.2"
  }
 },
 "nbformat": 4,
 "nbformat_minor": 2
}
