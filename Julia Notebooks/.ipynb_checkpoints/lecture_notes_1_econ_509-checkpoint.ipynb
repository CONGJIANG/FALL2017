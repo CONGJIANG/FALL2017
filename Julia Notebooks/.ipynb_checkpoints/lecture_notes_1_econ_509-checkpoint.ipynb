{
 "cells": [
  {
   "cell_type": "markdown",
   "metadata": {},
   "source": [
    "## Problem 1\n",
    "If we have a constant elasticity demand function, $q=\\frac{1}{2}p^{-0.2} + \\frac{1}{2}p^{-0.5}$ and a quantity demanded of q=2, what market price clears the market?\n",
    "\n",
    "This has no closed form solution, but we can solve it numerically with Newton's method."
   ]
  },
  {
   "cell_type": "code",
   "execution_count": 1,
   "metadata": {
    "collapsed": false
   },
   "outputs": [
    {
     "name": "stdout",
     "output_type": "stream",
     "text": [
      "The equilibrium price is $0.154.\n"
     ]
    },
    {
     "data": {
      "image/png": "[encoded data removed]",
      "text/plain": [
       "PyPlot.Figure(PyObject <matplotlib.figure.Figure object at 0x7ff17eb86110>)"
      ]
     },
     "metadata": {},
     "output_type": "display_data"
    }
   ],
   "source": [
    "# Plot the function\n",
    "using PyPlot\n",
    "\n",
    "# We know solution is between .1 and .2\n",
    "x = linspace(.1,.2,1000)\n",
    "z = 2*ones(length(x))\n",
    "# Price function minus equilibrium quantity of 2\n",
    "price(p) = 0.5*p.^(-0.2) + 0.5*p.^(-0.5)\n",
    "\n",
    "# Get corresponding quantity values at these prices\n",
    "y = price(x)\n",
    "\n",
    "# Plot\n",
    "plot(x, y, color=\"red\", linewidth=2.0)\n",
    "plot(x, z, color=\"blue\", linewidth=0.5, linestyle=\"--\")\n",
    "title(\"Where's the root?\")\n",
    "\n",
    "\n",
    "# Initial price guess\n",
    "p = 0.20\n",
    "\n",
    "# Initialize stepsize\n",
    "deltap = 1.0e10\n",
    "\n",
    "# Demand function\n",
    "demand_function(p) = (.5*p^(-.2)+.5*p^( -.5) -2)\n",
    "# Gradient of demand function\n",
    "demand_function_gradient(p) = (.1*p^(-1.2) +.25*p^(-1.5))\n",
    "\n",
    "# Loop through Newton's method until tolerance is met\n",
    "while abs(deltap) > 1e-8\n",
    "    deltap = demand_function(p)/demand_function_gradient(p)\n",
    "    p += deltap\n",
    "end\n",
    "\n",
    "println(\"The equilibrium price is \\$$(round(p*1000)/1000).\")"
   ]
  },
  {
   "cell_type": "markdown",
   "metadata": {},
   "source": [
    "## Problem 2\n",
    "Consider a two period model of an agricultural commodity market. Acreage decisions must be made before knowing the realization of per-acre yield and the price at harvest. The farmer has an expectation of the harvest price and makes decisions as a function of the expectation: $a = 0.5 + 0.5E[p]$. After planting, the random yield per-acre, $\\hat{y}$ is realized, producing a quantity $q = a\\hat{y}$ of the crop. Demand for the crop is given by the inverse demand function $p = 3 − 2q$ and the government sets a price floor of \\$1. Suppose $\\hat{y}$ is exogenous and has mean of $1$ and variance $0.1$. How much acreage does the farmer plant?"
   ]
  },
  {
   "cell_type": "code",
   "execution_count": 2,
   "metadata": {
    "collapsed": false,
    "scrolled": true
   },
   "outputs": [
    {
     "ename": "LoadError",
     "evalue": "ArgumentError: Module CompEcon not found in current path.\nRun `Pkg.add(\"CompEcon\")` to install the CompEcon package.",
     "output_type": "error",
     "traceback": [
      "ArgumentError: Module CompEcon not found in current path.\nRun `Pkg.add(\"CompEcon\")` to install the CompEcon package.",
      "",
      " in require(::Symbol) at ./loading.jl:365",
      " in include_string(::String, ::String) at ./loading.jl:441"
     ]
    }
   ],
   "source": [
    "using CompEcon\n",
    "# Create quadrature\n",
    "y, w = qnwnorm(10, 1, 0.1)\n",
    "\n",
    "# Initial guess for acreage\n",
    "a = 1.\n",
    "p = 0. # Need to define price outside the loop to have correct scope\n",
    "diff = 100\n",
    "\n",
    "# Loop through solution algorithm until tolerance is met\n",
    "while diff > 1e-8\n",
    "    # Save old acreage\n",
    "    aold = a\n",
    "    # Get price at all the quadrature nodes y\n",
    "    p = 3.-2.*a*y\n",
    "    # Compute expected price with price floor\n",
    "    expectation = w'*max(p,1)\n",
    "    # Get new acreage planted given new price\n",
    "    a = 0.5 + 0.5*expectation[1]\n",
    "    # Get difference between old and new acreage\n",
    "    diff = abs(a-aold)\n",
    "end\n",
    "\n",
    "println(\"The optimal number of acres planted is $(round(a*1000)/1000).\")\n",
    "println(\"The expected price is $(round((w'*max(p,1))[1]*1000)/1000).\")"
   ]
  },
  {
   "cell_type": "markdown",
   "metadata": {},
   "source": [
    "# Problem 3\n",
    "\n",
    "Test the time to invert increasing large matrices."
   ]
  },
  {
   "cell_type": "code",
   "execution_count": 3,
   "metadata": {
    "collapsed": false
   },
   "outputs": [
    {
     "name": "stdout",
     "output_type": "stream",
     "text": [
      "  0.235257 seconds (109.06 k allocations: 4.568 MB)\n"
     ]
    },
    {
     "data": {
      "text/plain": [
       "100×100 Array{Float64,2}:\n",
       "  0.165567   -0.0350911  -0.0901736   …   0.151341      0.354035 \n",
       " -0.15598     0.114793    0.259439       -0.0793561     0.0623369\n",
       " -0.35911     0.20377     0.0675004       0.040522      0.608562 \n",
       "  0.205094    0.13352    -0.0434252       0.17701       0.286571 \n",
       "  0.541411   -0.0668586   0.00400771      0.132568      0.0119605\n",
       "  0.222898   -0.0733062   0.183524    …   0.0238612     0.0266488\n",
       "  0.106958    0.103422    0.453375       -0.0905273     0.617553 \n",
       " -0.480093    0.0387921  -0.0745306      -0.341779      0.0700868\n",
       "  0.302918    0.0215268   0.0404391       0.0660889     0.038875 \n",
       " -0.0580917  -0.203971   -0.065158       -0.0851441    -0.3457   \n",
       " -0.146655    0.0442534  -0.150201    …   0.0771615    -0.338956 \n",
       "  0.0225871  -0.208588   -0.732505       -0.0950178     0.224189 \n",
       "  0.190143   -0.020491    0.130395        0.0394521     0.385476 \n",
       "  ⋮                                   ⋱                          \n",
       " -0.756947    0.158723   -0.196798       -0.453215      0.148801 \n",
       "  0.552396   -0.347441    0.144011        0.0378079    -0.416376 \n",
       "  0.296055   -0.0298212  -0.0329444   …   0.161507      0.231148 \n",
       "  0.393984    0.128638    0.116803        0.143086      0.384247 \n",
       " -0.23508    -0.0753501  -0.46368        -0.224465     -0.210089 \n",
       "  0.326069   -0.0380947   0.0809679       0.10036       0.173633 \n",
       " -0.596492    0.0310926   0.282964       -0.204392     -0.0396582\n",
       "  0.0952712   0.0230654   0.0195101   …  -0.000414306   0.0274598\n",
       "  0.19643     0.33477     0.296214       -0.0869791     0.162973 \n",
       " -0.185227   -0.164364   -0.115774       -0.209106     -0.325623 \n",
       " -0.0893928   0.153295   -0.150355        0.121946      0.482622 \n",
       "  0.132159   -0.166101    0.28773        -0.0410263    -0.236811 "
      ]
     },
     "execution_count": 3,
     "metadata": {},
     "output_type": "execute_result"
    }
   ],
   "source": [
    "# Initialize matrices\n",
    "A100 = rand(100,100)\n",
    "A1000 = rand(1000,1000)\n",
    "A10000 = rand(10000,10000)\n",
    "\n",
    "@time invA100 = inv(A100)"
   ]
  },
  {
   "cell_type": "code",
   "execution_count": 4,
   "metadata": {
    "collapsed": false,
    "scrolled": true
   },
   "outputs": [
    {
     "name": "stdout",
     "output_type": "stream",
     "text": [
      "  0.064771 seconds (18 allocations: 15.763 MB, 32.81% gc time)\n"
     ]
    },
    {
     "data": {
      "text/plain": [
       "1000×1000 Array{Float64,2}:\n",
       "  1.21937     1.63073    8.04479   …  -3.08002   -2.34798     0.328871   \n",
       " -1.39482    -1.9058    -9.3733        3.59612    2.73101    -0.526054   \n",
       " -0.786322   -1.0217    -5.37751       2.02229    1.49724    -0.362093   \n",
       " -0.920298   -1.33562   -7.10286       2.67375    2.11424    -0.448532   \n",
       " -0.649869   -0.93034   -4.64373       1.75991    1.35976    -0.201174   \n",
       " -0.857007   -1.07103   -5.3321    …   2.0152     1.50866     0.000762819\n",
       "  0.0865766   0.086467   0.503311     -0.130467  -0.157044   -0.0175538  \n",
       "  0.106224    0.113559   0.324703     -0.171573  -0.0222277  -0.0333727  \n",
       " -0.962552   -1.22018   -5.86188       2.27678    1.60387     0.0678363  \n",
       " -1.10904    -1.68122   -8.15597       3.05051    2.44175    -0.336723   \n",
       "  1.08683     1.54651    8.31458   …  -3.09093   -2.44479     0.741023   \n",
       "  0.955164    1.24715    6.32412      -2.41931   -1.75681     0.387437   \n",
       "  1.07086     1.49802    8.18218      -2.99008   -2.42323     0.650772   \n",
       "  ⋮                                ⋱                                     \n",
       "  1.4509      1.8854     9.32404      -3.61251   -2.69299     0.266433   \n",
       "  0.688274    1.05125    5.37667      -1.98856   -1.61755     0.522157   \n",
       " -0.616612   -0.750255  -3.82677   …   1.44751    1.0758     -0.209858   \n",
       "  0.960297    1.47197    6.40971      -2.54093   -1.88048    -0.000326871\n",
       " -0.0322165  -0.135282  -0.300988      0.130098   0.104997    0.175242   \n",
       "  0.390667    0.63574    3.49324      -1.24792   -1.07074     0.393857   \n",
       " -0.181066   -0.193376  -0.996839      0.393178   0.231766    0.018228   \n",
       "  0.434509    0.564581   2.48467   …  -0.978717  -0.669634    0.00121464 \n",
       " -0.34121    -0.590384  -2.18443       0.884373   0.674118    0.192758   \n",
       "  2.12229     2.87586   15.2451       -5.70816   -4.46536     1.06086    \n",
       "  0.543199    0.689738   3.37695      -1.28727   -0.931335    0.00907907 \n",
       "  0.584014    0.883923   4.39111      -1.68922   -1.26189     0.0976768  "
      ]
     },
     "execution_count": 4,
     "metadata": {},
     "output_type": "execute_result"
    }
   ],
   "source": [
    "@time invA1000 = inv(A1000)"
   ]
  },
  {
   "cell_type": "code",
   "execution_count": 5,
   "metadata": {
    "collapsed": false,
    "scrolled": true
   },
   "outputs": [
    {
     "name": "stdout",
     "output_type": "stream",
     "text": [
      " 24.400580 seconds (20 allocations: 1.495 GB, 0.76% gc time)\n"
     ]
    },
    {
     "data": {
      "text/plain": [
       "10000×10000 Array{Float64,2}:\n",
       " -0.0165393   -0.0178866   -0.014138    …   0.0211219   -0.000321535\n",
       "  0.0246054   -0.0106861    0.0259749      -0.0479876   -3.36736e-5 \n",
       " -0.05792      0.0145221   -0.0429272       0.0524623   -0.00750921 \n",
       "  0.0244134    0.0102144   -0.0192393       0.0298707    0.0122051  \n",
       "  0.137175    -0.00287733   0.0313739      -0.119454     0.0167542  \n",
       " -0.0577574    0.00729807  -0.0266044   …   0.0982439    0.0187208  \n",
       " -0.0514549    0.00311253  -0.0112533       0.0373017   -0.0137294  \n",
       " -0.0103638   -0.0268729   -0.0343302       0.0368721   -0.0268446  \n",
       "  0.037266     0.035687     0.0343207      -0.0793941   -0.015284   \n",
       "  0.0299141   -0.00797444   0.019095       -0.0369985    0.000458877\n",
       "  0.113705     0.00244162   0.0761743   …  -0.101201     0.0127357  \n",
       " -0.0108194    0.00469085  -0.00449264     -0.0275564   -0.0325055  \n",
       " -0.00214207  -0.0226108    0.0139621       0.0651468    0.0305045  \n",
       "  ⋮                                     ⋱                           \n",
       " -0.0230264    0.0459521   -0.0257442       0.0215462   -0.00269023 \n",
       " -0.0486033    0.0289159   -0.0322636       0.0601188    0.024799   \n",
       "  0.0596957    0.0176663    0.0322515   …  -0.0909291   -0.0223092  \n",
       "  0.108113     0.0298957    0.0392088      -0.108466     0.0075649  \n",
       "  0.0487595   -0.00151751   0.0020628       0.00132522   0.00146753 \n",
       " -0.00854564  -0.00665288  -0.0109272      -0.00571399  -0.0173729  \n",
       " -0.126635    -0.00187723  -0.0912508       0.13629     -0.0130417  \n",
       " -0.00337318   0.0234159   -0.0133525   …   0.0191063    0.0114572  \n",
       "  0.121739     0.0345234    0.0393782      -0.076012     0.0370318  \n",
       " -0.010662     0.0027338   -0.0107654       0.0520256    0.0270795  \n",
       "  0.0328303    0.0142903    0.0575657      -0.0764487    0.00730791 \n",
       "  0.00601676  -0.0141721   -0.00807738      0.00284425   0.00235355 "
      ]
     },
     "execution_count": 5,
     "metadata": {},
     "output_type": "execute_result"
    }
   ],
   "source": [
    "@time invA10000 = inv(A10000)"
   ]
  },
  {
   "cell_type": "markdown",
   "metadata": {},
   "source": [
    "What is machine epsilon, machine zero and machine infinity in Julia?"
   ]
  },
  {
   "cell_type": "code",
   "execution_count": 6,
   "metadata": {
    "collapsed": false
   },
   "outputs": [
    {
     "name": "stdout",
     "output_type": "stream",
     "text": [
      "Machine epsilon is 2.220446049250313e-16.\n"
     ]
    },
    {
     "data": {
      "text/plain": [
       "false"
      ]
     },
     "execution_count": 6,
     "metadata": {},
     "output_type": "execute_result"
    }
   ],
   "source": [
    "println(\"Machine epsilon is $(eps()).\")\n",
    "\n",
    "1+eps()/2 > 1"
   ]
  },
  {
   "cell_type": "code",
   "execution_count": 7,
   "metadata": {
    "collapsed": false
   },
   "outputs": [
    {
     "name": "stdout",
     "output_type": "stream",
     "text": [
      "Machine zero is 2.2250738585072014e-308.\n"
     ]
    }
   ],
   "source": [
    "println(\"Machine zero is $(realmin()).\")"
   ]
  },
  {
   "cell_type": "code",
   "execution_count": 8,
   "metadata": {
    "collapsed": false
   },
   "outputs": [
    {
     "name": "stdout",
     "output_type": "stream",
     "text": [
      "Machine infinity is 1.7976931348623157e308.\n"
     ]
    }
   ],
   "source": [
    "println(\"Machine infinity is $(realmax()).\")"
   ]
  },
  {
   "cell_type": "markdown",
   "metadata": {},
   "source": [
    "# Problem 4\n",
    "Compute one-sided finite differences of x^2 at x=2 for differences of $h=1e-8, 1e-12, 1e-30, 1e-1$."
   ]
  },
  {
   "cell_type": "code",
   "execution_count": 9,
   "metadata": {
    "collapsed": false
   },
   "outputs": [
    {
     "name": "stdout",
     "output_type": "stream",
     "text": [
      "3.999999975690116\n",
      "4.000355602329364\n",
      "0.0\n",
      "4.100000000000001\n"
     ]
    }
   ],
   "source": [
    "# Finite-difference as a function of the difference h and value x\n",
    "x_sq_deriv(h,x) = ((x+h)^2 - x^2)/h\n",
    "\n",
    "# Display several finite differences\n",
    "println(x_sq_deriv(1.e-8,2.))\n",
    "println(x_sq_deriv(1.e-12,2.))\n",
    "println(x_sq_deriv(1.e-30,2.))\n",
    "println(x_sq_deriv(1.e-1,2.))"
   ]
  },
  {
   "cell_type": "markdown",
   "metadata": {},
   "source": [
    "# Problem 5\n",
    "Compute the same inverse with two different inversion techniques, the standard inversion algorithm and LU-Factorization."
   ]
  },
  {
   "cell_type": "code",
   "execution_count": 4,
   "metadata": {
    "collapsed": false
   },
   "outputs": [
    {
     "name": "stdout",
     "output_type": "stream",
     "text": [
      " 29.015906 seconds (19 allocations: 1.495 GB, 0.23% gc time)\n",
      " 20.462587 seconds (29.00 k allocations: 2.236 GB, 0.46% gc time)\n",
      "The maximum relative error is 5.271599308393689e-6.\n"
     ]
    }
   ],
   "source": [
    "A = rand(10000,10000)\n",
    "@time inv1 = inv(A)\n",
    "@time inv2 = A\\eye(10000,10000)\n",
    "println(\"The maximum relative error is $(maximum((inv1-inv2)./inv1)).\")"
   ]
  },
  {
   "cell_type": "markdown",
   "metadata": {},
   "source": [
    "# Problem 6\n",
    "Are these two expressions numerically equivalent?"
   ]
  },
  {
   "cell_type": "code",
   "execution_count": 2,
   "metadata": {
    "collapsed": false
   },
   "outputs": [
    {
     "name": "stdout",
     "output_type": "stream",
     "text": [
      "Truncation error!\n"
     ]
    }
   ],
   "source": [
    "x = (1e-20 + 1) -1\n",
    "y = 1e-20 + (1 - 1)\n",
    "\n",
    "# Logical Statement ? Do this if true : else do this\n",
    "x==y ? println(\"Equivalent!\") : println(\"Truncation error!\")"
   ]
  },
  {
   "cell_type": "markdown",
   "metadata": {},
   "source": [
    "# Problem 7\n",
    "Are these two expressions numerically equivalent?"
   ]
  },
  {
   "cell_type": "code",
   "execution_count": 3,
   "metadata": {
    "collapsed": false
   },
   "outputs": [
    {
     "name": "stdout",
     "output_type": "stream",
     "text": [
      "Truncation error!\n"
     ]
    }
   ],
   "source": [
    "x = 100000.2 - 100000.1\n",
    "y = .1\n",
    "\n",
    "# Logical Statement ? Do this if true : else do this\n",
    "x==y ? println(\"Equivalent!\") : println(\"Truncation error!\")"
   ]
  }
 ],
 "metadata": {
  "kernelspec": {
   "display_name": "Julia 0.5.2",
   "language": "julia",
   "name": "julia-0.5"
  },
  "language_info": {
   "file_extension": ".jl",
   "mimetype": "application/julia",
   "name": "julia",
   "version": "0.5.2"
  }
 },
 "nbformat": 4,
 "nbformat_minor": 2
}
