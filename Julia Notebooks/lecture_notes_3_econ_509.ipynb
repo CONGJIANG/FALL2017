{
 "cells": [
  {
   "cell_type": "markdown",
   "metadata": {},
   "source": [
    "# Problem 1\n",
    "Find the zero of $3x^3 + 2x - 4$ using the bisection method. "
   ]
  },
  {
   "cell_type": "code",
   "execution_count": 24,
   "metadata": {
    "collapsed": false
   },
   "outputs": [
    {
     "name": "stdout",
     "output_type": "stream",
     "text": [
      "  0.002271 seconds (128 allocations: 3.750 KB)\n",
      "The root is at 0.9013976514339448.\n",
      "It took 25 iterations.\n"
     ]
    },
    {
     "name": "stderr",
     "output_type": "stream",
     "text": [
      "WARNING: Method definition f1(Float64) in module Main at In[23]:8 overwritten at In[24]:8.\n"
     ]
    }
   ],
   "source": [
    "# Initialize bounds\n",
    "lb = .8\n",
    "ub = 1.\n",
    "# Initialize tolerance\n",
    "tol = 1.e-8\n",
    "\n",
    "function f1(x::Float64)\n",
    "    return 3.0*x^3 + 2.*x - 4.\n",
    "end\n",
    "\n",
    "# Starting point\n",
    "x = (lb+ub)/2.\n",
    "# Initial difference\n",
    "d = (ub-lb)/2.\n",
    "it = 1\n",
    "@time while d > tol\n",
    "    it += 1\n",
    "    d = d/2.\n",
    "    # If guess is same sign as lower bound, search higher, else search lower\n",
    "    if sign(f1(lb)) == sign(f1(x))\n",
    "        lb = x\n",
    "        x = x + d\n",
    "    else\n",
    "        ub = x\n",
    "        x = x - d\n",
    "    end\n",
    "end\n",
    "println(\"The root is at $x.\")\n",
    "println(\"It took $(it) iterations.\")"
   ]
  },
  {
   "cell_type": "markdown",
   "metadata": {},
   "source": [
    "# Problem 2\n",
    "Find the fixed point of $x^{-1/2}$ using function iteration."
   ]
  },
  {
   "cell_type": "code",
   "execution_count": 2,
   "metadata": {
    "collapsed": false
   },
   "outputs": [
    {
     "name": "stdout",
     "output_type": "stream",
     "text": [
      "  0.004974 seconds (179 allocations: 6.141 KB)\n",
      "The root is at 0.9999999999832465.\n"
     ]
    }
   ],
   "source": [
    "# Initialize difference\n",
    "d = 1.0e10\n",
    "# Initialize tolerance\n",
    "tol = 1.e-10\n",
    "# Initial old value\n",
    "x_old = 10.\n",
    "\n",
    "\n",
    "# Same function\n",
    "function f2(x::Float64)\n",
    "    return x^(-1/2)\n",
    "end\n",
    "\n",
    "@time while abs(d) > tol\n",
    "    x = f2(x_old)\n",
    "    d = x - x_old\n",
    "    x_old = x\n",
    "end\n",
    "println(\"The root is at $x.\")"
   ]
  },
  {
   "cell_type": "markdown",
   "metadata": {},
   "source": [
    "# Problem 3\n",
    "Find the zero of $3x^3 + 2x - 4$ using using Newton's method."
   ]
  },
  {
   "cell_type": "code",
   "execution_count": 25,
   "metadata": {
    "collapsed": false
   },
   "outputs": [
    {
     "name": "stdout",
     "output_type": "stream",
     "text": [
      "  0.005462 seconds (138 allocations: 5.656 KB)\n",
      "The root is at 0.9013976500936001.\n",
      "It took 12 iterations.\n"
     ]
    },
    {
     "name": "stderr",
     "output_type": "stream",
     "text": [
      "WARNING: Method definition f3(Float64) in module Main at In[21]:9 overwritten at In[25]:9.\n",
      "WARNING: Method definition f3_prime(Float64) in module Main at In[21]:14 overwritten at In[25]:14.\n"
     ]
    }
   ],
   "source": [
    "# Initialize tolerance\n",
    "tol = 1.e-8\n",
    "# Initial old value and new value\n",
    "x_old = -10.\n",
    "x = 0.\n",
    "\n",
    "# Function\n",
    "function f3(x::Float64)\n",
    "    return 3x^3+2x-4\n",
    "end\n",
    "\n",
    "# Derivative\n",
    "function f3_prime(x::Float64)\n",
    "    return 9x^2+2\n",
    "end\n",
    "it = 0\n",
    "@time while abs(f3(x_old)) > tol\n",
    "    it += 1\n",
    "    x = x_old - f3(x_old)/f3_prime(x_old)\n",
    "    x_old = x\n",
    "end\n",
    "println(\"The root is at $x.\")\n",
    "println(\"It took $(it) iterations.\")"
   ]
  }
 ],
 "metadata": {
  "kernelspec": {
   "display_name": "Julia 0.5.2",
   "language": "julia",
   "name": "julia-0.5"
  },
  "language_info": {
   "file_extension": ".jl",
   "mimetype": "application/julia",
   "name": "julia",
   "version": "0.5.2"
  }
 },
 "nbformat": 4,
 "nbformat_minor": 2
}
