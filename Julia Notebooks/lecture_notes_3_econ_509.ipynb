{
 "cells": [
  {
   "cell_type": "markdown",
   "metadata": {},
   "source": [
    "# Problem 1\n",
    "Find the zero of $3x^3 + 2x - 4$ using the bisection method. "
   ]
  },
  {
   "cell_type": "code",
   "execution_count": 24,
   "metadata": {
    "collapsed": false
   },
   "outputs": [
    {
     "name": "stdout",
     "output_type": "stream",
     "text": [
      "  0.002271 seconds (128 allocations: 3.750 KB)\n",
      "The root is at 0.9013976514339448.\n",
      "It took 25 iterations.\n"
     ]
    },
    {
     "name": "stderr",
     "output_type": "stream",
     "text": [
      "WARNING: Method definition f1(Float64) in module Main at In[23]:8 overwritten at In[24]:8.\n"
     ]
    }
   ],
   "source": [
    "# Initialize bounds\n",
    "lb = .8\n",
    "ub = 1.\n",
    "# Initialize tolerance\n",
    "tol = 1.e-8\n",
    "\n",
    "function f1(x::Float64)\n",
    "    return 3.0*x^3 + 2.*x - 4.\n",
    "end\n",
    "\n",
    "# Starting point\n",
    "x = (lb+ub)/2.\n",
    "# Initial difference\n",
    "d = (ub-lb)/2.\n",
    "it = 1\n",
    "@time while d > tol\n",
    "    it += 1\n",
    "    d = d/2.\n",
    "    # If guess is same sign as lower bound, search higher, else search lower\n",
    "    if sign(f1(lb)) == sign(f1(x))\n",
    "        lb = x\n",
    "        x = x + d\n",
    "    else\n",
    "        ub = x\n",
    "        x = x - d\n",
    "    end\n",
    "end\n",
    "println(\"The root is at $x.\")\n",
    "println(\"It took $(it) iterations.\")"
   ]
  },
  {
   "cell_type": "markdown",
   "metadata": {},
   "source": [
    "# Problem 2\n",
    "Find the fixed point of $x^{-1/2}$ using function iteration."
   ]
  },
  {
   "cell_type": "code",
   "execution_count": 2,
   "metadata": {
    "collapsed": false
   },
   "outputs": [
    {
     "name": "stdout",
     "output_type": "stream",
     "text": [
      "  0.004974 seconds (179 allocations: 6.141 KB)\n",
      "The root is at 0.9999999999832465.\n"
     ]
    }
   ],
   "source": [
    "# Initialize difference\n",
    "d = 1.0e10\n",
    "# Initialize tolerance\n",
    "tol = 1.e-10\n",
    "# Initial old value\n",
    "x_old = 10.\n",
    "\n",
    "\n",
    "# Same function\n",
    "function f2(x::Float64)\n",
    "    return x^(-1/2)\n",
    "end\n",
    "\n",
    "@time while abs(d) > tol\n",
    "    x = f2(x_old)\n",
    "    d = x - x_old\n",
    "    x_old = x\n",
    "end\n",
    "println(\"The root is at $x.\")"
   ]
  },
  {
   "cell_type": "markdown",
   "metadata": {},
   "source": [
    "# Problem 3\n",
    "Find the zero of $3x^3 + 2x - 4$ using using Newton's method."
   ]
  },
  {
   "cell_type": "code",
   "execution_count": 28,
   "metadata": {
    "collapsed": false
   },
   "outputs": [
    {
     "name": "stdout",
     "output_type": "stream",
     "text": [
      "  0.005160 seconds (126 allocations: 5.469 KB)\n",
      "The root is at 0.9040629296153776.\n",
      "It took 10 iterations.\n"
     ]
    },
    {
     "name": "stderr",
     "output_type": "stream",
     "text": [
      "WARNING: Method definition f3(Float64) in module Main at In[27]:9 overwritten at In[28]:9.\n",
      "WARNING: Method definition f3_prime(Float64) in module Main at In[27]:14 overwritten at In[28]:14.\n"
     ]
    }
   ],
   "source": [
    "# Initialize tolerance\n",
    "tol = 1.e-8\n",
    "# Initial old value and new value\n",
    "x_old = -10.\n",
    "x = 0.\n",
    "\n",
    "# Function\n",
    "function f3(x::Float64)\n",
    "    return 3x^3+2x-4\n",
    "end\n",
    "\n",
    "# Derivative\n",
    "function f3_prime(x::Float64)\n",
    "    return 9x^2+2\n",
    "end\n",
    "\n",
    "it = 0\n",
    "# Perform Newton step\n",
    "@time while abs(f3(x_old)) > tol\n",
    "    it += 1\n",
    "    x = x_old - f3(x_old)/f3_prime(x_old)\n",
    "    x_old = x\n",
    "end\n",
    "println(\"The root is at $x.\")\n",
    "println(\"It took $(it) iterations.\")"
   ]
  },
  {
   "cell_type": "markdown",
   "metadata": {},
   "source": [
    "# Problem 3\n",
    "Find the maximum of $-x^2$ using using Golden search."
   ]
  },
  {
   "cell_type": "code",
   "execution_count": 41,
   "metadata": {
    "collapsed": false
   },
   "outputs": [
    {
     "name": "stdout",
     "output_type": "stream",
     "text": [
      "  0.002957 seconds (362 allocations: 6.297 KB)\n",
      "The maximum is at -2.9953319011108476e-8.\n",
      "It took 36 iterations.\n"
     ]
    },
    {
     "name": "stderr",
     "output_type": "stream",
     "text": [
      "WARNING: Method definition f1(Float64) in module Main at In[40]:17 overwritten at In[41]:17.\n"
     ]
    }
   ],
   "source": [
    "# Starting lower bound\n",
    "a = -1.0\n",
    "# Starting upper bound\n",
    "b = 1.0\n",
    "# Starting evaluation points\n",
    "x1 = 0.\n",
    "x2 = 0.\n",
    "# Initialize difference\n",
    "d = 1e10\n",
    "# Ratios\n",
    "alpha1 = (3.-sqrt(5))/2.\n",
    "alpha2 = (sqrt(5)-1.)/2.\n",
    "# Initialize tolerance\n",
    "tol = 1e-7\n",
    "# Function to maximize\n",
    "function f1(x::Float64)\n",
    "    return -x.^2\n",
    "end\n",
    "it = 1\n",
    "@time while d > tol\n",
    "    it += 1\n",
    "    x1 = a + alpha1*(b-a)\n",
    "    x2 = a + alpha2*(b-a)\n",
    "    # If guess is same sign as lower bound, search higher, else search lower\n",
    "    if f1(x1) > f1(x2)\n",
    "        b = x2\n",
    "    else\n",
    "        a = x1\n",
    "    end\n",
    "    d = abs(a - b)\n",
    "end\n",
    "println(\"The maximum is at $a.\")\n",
    "println(\"It took $(it) iterations.\")"
   ]
  },
  {
   "cell_type": "code",
   "execution_count": 35,
   "metadata": {
    "collapsed": false
   },
   "outputs": [
    {
     "name": "stdout",
     "output_type": "stream",
     "text": [
      "-1.1921721973269888e-5\n"
     ]
    },
    {
     "name": "stderr",
     "output_type": "stream",
     "text": [
      "WARNING: Method definition f(Any) in module Main at In[34]:2 overwritten at In[35]:2.\n"
     ]
    }
   ],
   "source": [
    "# Qings Code\n",
    "function f(x)\n",
    "    return -x^2\n",
    "end\n",
    "a=-4\n",
    "b=1\n",
    "tol=1.e-10\n",
    "d=1.e5\n",
    "while abs(d)>tol\n",
    " x1=a+((3-sqrt(5))/2)*(b-a)\n",
    " x2=a+((sqrt(5)-1)/2)*(b-a)\n",
    "    if f(x1)>f(x2)\n",
    "        b=x2\n",
    "    else\n",
    "        a=x1\n",
    "    end\n",
    "    d=f(a)-f(b)\n",
    "end\n",
    "println(a)"
   ]
  }
 ],
 "metadata": {
  "kernelspec": {
   "display_name": "Julia 0.5.2",
   "language": "julia",
   "name": "julia-0.5"
  },
  "language_info": {
   "file_extension": ".jl",
   "mimetype": "application/julia",
   "name": "julia",
   "version": "0.5.2"
  }
 },
 "nbformat": 4,
 "nbformat_minor": 2
}
