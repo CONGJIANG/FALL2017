{
 "cells": [
  {
   "cell_type": "markdown",
   "metadata": {},
   "source": [
    "## Problem 1\n",
    "If we have a constant elasticity demand function, $q=\\frac{1}{2}p^{-0.2} + \\frac{1}{2}p^{-0.5}$ and a quantity demanded of q=2, what market price clears the market?\n",
    "\n",
    "This has no closed form solution, but we can solve it numerically with Newton's method."
   ]
  },
  {
   "cell_type": "code",
   "execution_count": 13,
   "metadata": {
    "collapsed": false
   },
   "outputs": [
    {
     "name": "stdout",
     "output_type": "stream",
     "text": [
      "The equilibrium price is $0.15419764093263613.\n"
     ]
    }
   ],
   "source": [
    "p = 0.25\n",
    "deltap = 1.0e10\n",
    "# Loop through Newton ’ s method until tolerance is met\n",
    "while abs(deltap) > 1e-8\n",
    "    deltap = (.5*p^(-.2)+.5*p^( -.5) -2)/(.1*p^(-1.2) +.25*p^(-1.5))\n",
    "    p += deltap\n",
    "end\n",
    "println(\"The equilibrium price is \\$$p.\")"
   ]
  },
  {
   "cell_type": "markdown",
   "metadata": {},
   "source": [
    "## Problem 2\n",
    "Consider a two period model of an agricultural commodity market. Acreage decisions must be made before knowing the realization of per-acre yield and the price at harvest. The farmer has an expectation of the harvest price and makes decisions as a function of the expectation: $a = 0.5 + 0.5E[p]$. After planting, the random yield per-acre, $\\hat{y}$ is realized, producing a quantity $q = a\\hat{y}$ of the crop. Demand for the crop is given by the inverse demand function $p = 3 − 2q$. Suppose $\\hat{y}$ is exogenous and has mean of $1$ and variance $0.1$. How much acreage does the farmer plant?"
   ]
  },
  {
   "cell_type": "code",
   "execution_count": 22,
   "metadata": {
    "collapsed": false
   },
   "outputs": [
    {
     "name": "stdout",
     "output_type": "stream",
     "text": [
      "The optimal number of acres planted is 1.0961217909687915.\n",
      "The expected price is 0.8077564068746937.\n"
     ]
    }
   ],
   "source": [
    "using CompEcon\n",
    "# Create quadrature\n",
    "y, w = qnwnorm(10, 1, 0.1)\n",
    "# Loop through solution algorithm until tolerance is met\n",
    "a = 1.\n",
    "diff = 100\n",
    "while diff > 1e-8\n",
    "    aold = a\n",
    "    p = 3.-2.*a*y\n",
    "    expectation = w'*max(p,1)\n",
    "    a = 0.5 + 0.5*expectation[1]\n",
    "    diff = abs(a-aold)\n",
    "end\n",
    "println(\"The optimal number of acres planted is $a.\")\n",
    "println(\"The expected price is $((w'*p)[1]).\")"
   ]
  },
  {
   "cell_type": "markdown",
   "metadata": {},
   "source": [
    "# Problem 3\n",
    "\n",
    "Test the time to invert increasing large matrices."
   ]
  },
  {
   "cell_type": "code",
   "execution_count": 26,
   "metadata": {
    "collapsed": false
   },
   "outputs": [
    {
     "name": "stdout",
     "output_type": "stream",
     "text": [
      "  0.007336 seconds (17 allocations: 208.578 KB)\n"
     ]
    },
    {
     "data": {
      "text/plain": [
       "100×100 Array{Float64,2}:\n",
       "  0.660741   -0.202388   -0.344316   -0.164691   …  -0.575362   -0.0920084 \n",
       " -0.754932    0.397749    0.567755    0.377649       0.674798    0.118257  \n",
       " -0.47104     0.164368   -0.225842    0.0789768     -0.0948656  -0.0886498 \n",
       "  0.442666   -0.539595   -0.332822    0.259932      -0.249977    0.1394    \n",
       " -0.0490235   0.210315    0.504034    0.717566       0.409946    0.22862   \n",
       "  0.730947   -0.118615   -1.17022    -0.633764   …  -0.94899    -0.564755  \n",
       "  0.308614   -0.549795   -0.231762   -0.364728      -0.421828    0.00169589\n",
       "  0.139462   -0.553656   -0.386435    0.158473      -0.714973    0.149952  \n",
       " -0.344879    0.134641    0.725239    0.428591       0.963798    0.279914  \n",
       " -0.034624   -0.0145651   0.256673    0.432756      -0.048285    0.154367  \n",
       "  0.220372   -0.251054   -0.239659   -0.388602   …  -0.149778   -0.200343  \n",
       "  0.537224   -0.327875   -0.11914    -0.0885526     -0.418004   -0.12478   \n",
       " -1.32086     0.554998    0.940161    0.817428       1.40893     0.440351  \n",
       "  ⋮                                              ⋱                         \n",
       " -0.980211    0.161113    0.873787    0.411432       1.01327     0.43969   \n",
       "  0.355022   -0.363676   -0.168215   -0.174512      -0.19074     0.0111091 \n",
       "  0.426254   -0.549262   -0.631954   -0.290898   …  -0.366911   -0.329491  \n",
       " -0.283718    0.057665   -0.199564   -0.365579       0.126018   -0.0564191 \n",
       "  0.155493   -0.192858    0.0825544  -0.0403288     -0.21436     0.118539  \n",
       "  0.167934    0.0787407  -0.434753   -0.300991      -0.205308   -0.0829046 \n",
       " -0.316309    0.252502    0.434067    0.171705       0.605565    0.150254  \n",
       "  1.32943    -0.368649   -0.282974   -0.829994   …  -1.19615    -0.102098  \n",
       "  0.765774   -0.833258   -0.481035   -0.296368      -0.324476   -0.0254998 \n",
       "  0.261746    0.0967308  -0.140198    0.254677      -0.320558   -0.270183  \n",
       " -0.12317     0.1671     -0.0709406   0.300237       0.0534771  -0.0784839 \n",
       " -0.367028    0.289425    0.0197041   0.0311657      0.457298   -0.150093  "
      ]
     },
     "execution_count": 26,
     "metadata": {},
     "output_type": "execute_result"
    }
   ],
   "source": [
    "# Initialize matrices\n",
    "A100 = rand(100,100)\n",
    "A1000 = rand(1000,1000)\n",
    "A10000 = rand(10000,10000)\n",
    "\n",
    "@time invA100 = inv(A100)"
   ]
  },
  {
   "cell_type": "code",
   "execution_count": 27,
   "metadata": {
    "collapsed": false
   },
   "outputs": [
    {
     "name": "stdout",
     "output_type": "stream",
     "text": [
      "  0.115112 seconds (17 allocations: 15.763 MB)\n"
     ]
    },
    {
     "data": {
      "text/plain": [
       "1000×1000 Array{Float64,2}:\n",
       " -0.0583693   -0.160972    -0.0976022   …  -0.118746     0.0870578  \n",
       " -0.262741    -0.332927    -0.203296       -0.252268     0.277317   \n",
       "  0.0222574   -0.120109     0.00862626     -0.102285    -0.0877984  \n",
       "  0.0773948    0.122565    -0.0274569       0.035145     0.00359699 \n",
       " -0.0151853   -0.00137876   0.00615335     -0.00156917   0.0819315  \n",
       " -0.00359192  -0.0719543    0.0282429   …  -0.0404653    0.0281519  \n",
       " -0.0141891    0.139516    -0.0104285       0.0666941    0.0118359  \n",
       "  0.0623195    0.0760643   -0.0584711       0.0572698   -0.0285176  \n",
       " -0.289979    -0.0662814    0.132511        0.0208784    0.108471   \n",
       "  0.0264035   -0.138865    -0.0591512      -0.0896288    0.197056   \n",
       "  0.00723994   0.0718833    0.0292585   …  -0.0264646    0.0182119  \n",
       " -0.00740684  -0.314239    -0.199617       -0.143949     0.0145342  \n",
       " -0.0400036    0.0872113    0.113908        0.0271412   -0.0657465  \n",
       "  ⋮                                     ⋱                           \n",
       "  0.010035    -0.00368026   0.00447374     -0.0238064   -0.00490474 \n",
       " -0.0514752   -0.175242    -0.137033       -0.119969     0.0594035  \n",
       "  0.156161     0.289216     0.105163    …   0.139415    -0.132103   \n",
       " -0.202105    -0.266765    -0.233112       -0.233586     0.153623   \n",
       " -0.0809357   -0.0470894   -0.0921438      -0.121272     0.113516   \n",
       "  0.00720035   0.0843028   -0.0181618       0.00582061   0.0110926  \n",
       " -0.0976853    0.0116319    0.0552363      -0.0110095    0.0696569  \n",
       " -0.127181     0.136751     0.168157    …   0.0872766    0.0380961  \n",
       "  0.0483937    0.0219615    0.0689753      -0.0188691   -0.0719809  \n",
       "  0.0414029   -0.15825      0.0450468      -0.0339935   -0.0904027  \n",
       " -0.120454     0.13436      0.0186301       0.0459349    0.0767676  \n",
       " -0.0195331   -0.116912    -0.0681962      -0.00792594   0.000189825"
      ]
     },
     "execution_count": 27,
     "metadata": {},
     "output_type": "execute_result"
    }
   ],
   "source": [
    "@time invA1000 = inv(A1000)"
   ]
  },
  {
   "cell_type": "code",
   "execution_count": null,
   "metadata": {
    "collapsed": true
   },
   "outputs": [],
   "source": [
    "@time invA10000 = inv(A10000)"
   ]
  },
  {
   "cell_type": "markdown",
   "metadata": {},
   "source": [
    "# Problem 4\n",
    "Compute one-sided finite differences of x^2 at x=2 for differences of $h=1e-8, 1e-12, 1e-30, 1e-1$."
   ]
  },
  {
   "cell_type": "code",
   "execution_count": 5,
   "metadata": {
    "collapsed": false
   },
   "outputs": [
    {
     "name": "stdout",
     "output_type": "stream",
     "text": [
      "3.999999975690116\n",
      "4.000355602329364\n",
      "0.0\n",
      "4.100000000000001\n"
     ]
    }
   ],
   "source": [
    "h = 1.e-8\n",
    "x_sq_prime = ((2.+h)^2 - 2.^2)/h\n",
    "println(x_sq_prime)\n",
    "\n",
    "h = 1.e-12\n",
    "x_sq_prime = ((2.+h)^2 - 2.^2)/h\n",
    "println(x_sq_prime)\n",
    "\n",
    "h = 1.e-30\n",
    "x_sq_prime = ((2.+h)^2 - 2.^2)/h\n",
    "println(x_sq_prime)\n",
    "\n",
    "h = 1.e-1\n",
    "x_sq_prime = ((2.+h)^2 - 2.^2)/h\n",
    "println(x_sq_prime)"
   ]
  },
  {
   "cell_type": "code",
   "execution_count": 115,
   "metadata": {
    "collapsed": false
   },
   "outputs": [
    {
     "name": "stdout",
     "output_type": "stream",
     "text": [
      "  0.242138 seconds (17 allocations: 208.578 KB)\n",
      "  0.194575 seconds (122 allocations: 237.688 KB)\n",
      "The maximum relative error is 1.890663477322409e-11.\n"
     ]
    }
   ],
   "source": [
    "A = rand(100,100)\n",
    "@time inv1 = inv(A)\n",
    "@time inv2 = A\\eye(100,100)\n",
    "println(\"The maximum relative error is $(maximum((inv1-inv2)./inv1)).\")"
   ]
  },
  {
   "cell_type": "code",
   "execution_count": null,
   "metadata": {
    "collapsed": true
   },
   "outputs": [],
   "source": []
  },
  {
   "cell_type": "code",
   "execution_count": null,
   "metadata": {
    "collapsed": true
   },
   "outputs": [],
   "source": []
  }
 ],
 "metadata": {
  "kernelspec": {
   "display_name": "Julia 0.5.2",
   "language": "julia",
   "name": "julia-0.5"
  },
  "language_info": {
   "file_extension": ".jl",
   "mimetype": "application/julia",
   "name": "julia",
   "version": "0.5.2"
  }
 },
 "nbformat": 4,
 "nbformat_minor": 2
}
