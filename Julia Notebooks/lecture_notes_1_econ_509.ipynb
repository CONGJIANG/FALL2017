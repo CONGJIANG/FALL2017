{
 "cells": [
  {
   "cell_type": "markdown",
   "metadata": {},
   "source": [
    "## Problem 1\n",
    "If we have a constant elasticity demand function, $q=\\frac{1}{2}p^{-0.2} + \\frac{1}{2}p^{-0.5}$ and a quantity demanded of q=2, what market price clears the market?\n",
    "\n",
    "This has no closed form solution, but we can solve it numerically with Newton's method."
   ]
  },
  {
   "cell_type": "code",
   "execution_count": 1,
   "metadata": {},
   "outputs": [
    {
     "name": "stdout",
     "output_type": "stream",
     "text": [
      "The equilibrium price is $0.154.\n"
     ]
    }
   ],
   "source": [
    "# Initial price guess\n",
    "p = 0.25\n",
    "\n",
    "# Initialize stepsize\n",
    "deltap = 1.0e10\n",
    "\n",
    "# Demand function\n",
    "demand_function(p) = (.5*p^(-.2)+.5*p^( -.5) -2)\n",
    "# Gradient of demand function\n",
    "demand_function_gradient(p) = (.1*p^(-1.2) +.25*p^(-1.5))\n",
    "\n",
    "# Loop through Newton's method until tolerance is met\n",
    "while abs(deltap) > 1e-8\n",
    "    deltap = demand_function(p)/demand_function_gradient(p)\n",
    "    p += deltap\n",
    "end\n",
    "\n",
    "println(\"The equilibrium price is \\$$(round(p*1000)/1000).\")"
   ]
  },
  {
   "cell_type": "markdown",
   "metadata": {},
   "source": [
    "## Problem 2\n",
    "Consider a two period model of an agricultural commodity market. Acreage decisions must be made before knowing the realization of per-acre yield and the price at harvest. The farmer has an expectation of the harvest price and makes decisions as a function of the expectation: $a = 0.5 + 0.5E[p]$. After planting, the random yield per-acre, $\\hat{y}$ is realized, producing a quantity $q = a\\hat{y}$ of the crop. Demand for the crop is given by the inverse demand function $p = 3 − 2q$ and the government sets a price floor of \\$1. Suppose $\\hat{y}$ is exogenous and has mean of $1$ and variance $0.1$. How much acreage does the farmer plant?"
   ]
  },
  {
   "cell_type": "code",
   "execution_count": 2,
   "metadata": {
    "scrolled": true
   },
   "outputs": [
    {
     "name": "stdout",
     "output_type": "stream",
     "text": [
      "The optimal number of acres planted is 1.096.\n",
      "The expected price is 1.192.\n"
     ]
    }
   ],
   "source": [
    "using CompEcon\n",
    "# Create quadrature\n",
    "y, w = qnwnorm(10, 1, 0.1)\n",
    "\n",
    "# Initial guess for acreage\n",
    "a = 1.\n",
    "p = 0. # Need to define price outside the loop to have correct scope\n",
    "diff = 100\n",
    "\n",
    "# Loop through solution algorithm until tolerance is met\n",
    "while diff > 1e-8\n",
    "    # Save old acreage\n",
    "    aold = a\n",
    "    # Get price at all the quadrature nodes y\n",
    "    p = 3.-2.*a*y\n",
    "    # Compute expected price with price floor\n",
    "    expectation = w'*max(p,1)\n",
    "    # Get new acreage planted given new price\n",
    "    a = 0.5 + 0.5*expectation[1]\n",
    "    # Get difference between old and new acreage\n",
    "    diff = abs(a-aold)\n",
    "end\n",
    "\n",
    "println(\"The optimal number of acres planted is $(round(a*1000)/1000).\")\n",
    "println(\"The expected price is $(round((w'*max(p,1))[1]*1000)/1000).\")"
   ]
  },
  {
   "cell_type": "markdown",
   "metadata": {},
   "source": [
    "# Problem 3\n",
    "\n",
    "Test the time to invert increasing large matrices."
   ]
  },
  {
   "cell_type": "code",
   "execution_count": 3,
   "metadata": {},
   "outputs": [
    {
     "name": "stdout",
     "output_type": "stream",
     "text": [
      "  0.158220 seconds (93.16 k allocations: 4.118 MB)\n"
     ]
    },
    {
     "data": {
      "text/plain": [
       "100×100 Array{Float64,2}:\n",
       "  0.223663    0.308292    -0.508785  …  -0.0133683    0.0558642  -0.835243 \n",
       "  0.71338     0.0354493   -0.63167       0.309413    -0.208038   -0.892465 \n",
       "  0.0358716  -0.0127327    0.343533     -0.707677     0.286332    0.0979623\n",
       "  0.0518357  -0.217038    -0.228765      0.734808     0.20591     0.171708 \n",
       "  0.534824    0.247677    -0.716215      0.335555    -0.0783329  -1.07113  \n",
       "  2.57491     0.218694    -1.42196   …  -0.243817    -0.253825   -2.36753  \n",
       " -0.716879    0.194392     0.379983      0.00833963   0.103793    0.564224 \n",
       " -1.04936    -0.174219     0.286105      0.411113     0.072294    1.16981  \n",
       "  0.523619   -0.104833    -0.264644     -0.0709711    0.061434   -0.0863488\n",
       "  1.03189     0.408581    -1.8077       -0.224719    -0.10585    -1.87686  \n",
       "  1.59166     0.375299    -1.41065   …  -0.272032    -0.517899   -2.26918  \n",
       "  0.655477   -0.0546029   -0.720516      0.112634     0.176252   -0.847694 \n",
       " -0.116404   -0.326462     0.438416      0.352547    -0.167006    0.294608 \n",
       "  ⋮                                  ⋱                                     \n",
       " -0.427082    0.169835     0.43664      -0.489256    -0.193634    0.249563 \n",
       " -2.06263    -0.364267     1.92452       0.104071     0.126158    2.69674  \n",
       " -1.69385    -0.456976     1.61159   …   0.0320407   -0.153149    2.49862  \n",
       "  1.77347     0.462192    -1.137         0.174441    -0.615135   -2.26108  \n",
       " -0.152754   -0.458504     0.535478     -0.121984     0.0720517   0.584378 \n",
       " -0.520499    0.148993     0.271088      0.182806     0.200343    0.341444 \n",
       "  2.08159     0.563618    -1.77861      -0.271324    -0.178031   -2.64258  \n",
       " -0.187007   -0.364228     0.331522  …   0.234198    -0.14141     1.06785  \n",
       " -0.0269874  -0.0149623   -0.315658      0.757731    -0.033176   -0.11055  \n",
       "  0.598934    0.341584    -0.44295      -0.421032    -0.147897   -0.810733 \n",
       " -0.55526    -0.00826328   0.736885      0.147317    -0.356505    0.819904 \n",
       " -0.182762    0.236694    -0.222828      0.243109     0.152561   -0.25526  "
      ]
     },
     "execution_count": 3,
     "metadata": {},
     "output_type": "execute_result"
    }
   ],
   "source": [
    "# Initialize matrices\n",
    "A100 = rand(100,100)\n",
    "A1000 = rand(1000,1000)\n",
    "A10000 = rand(10000,10000)\n",
    "\n",
    "@time invA100 = inv(A100)"
   ]
  },
  {
   "cell_type": "code",
   "execution_count": 4,
   "metadata": {
    "scrolled": true
   },
   "outputs": [
    {
     "name": "stdout",
     "output_type": "stream",
     "text": [
      "  0.184319 seconds (18 allocations: 15.763 MB, 11.72% gc time)\n"
     ]
    },
    {
     "data": {
      "text/plain": [
       "1000×1000 Array{Float64,2}:\n",
       " -0.0762852  -0.167003    -0.0859577   …  -0.131309   -0.0316104    0.105506 \n",
       " -0.270574    0.532334     0.0646675       0.314187   -0.124688    -0.544241 \n",
       " -0.0874455   0.0625976    0.0464313       0.0658427  -0.0188238   -0.130889 \n",
       "  0.10595     0.18759      0.0559181       0.0578556  -0.122226    -0.0224908\n",
       " -0.213931    0.0982548   -0.00731011      0.169286   -0.0410127   -0.184791 \n",
       "  0.178509   -0.253328    -0.0841809   …  -0.185773    0.0836492    0.3305   \n",
       " -0.1495      0.25309      0.062586        0.114641   -0.0250284   -0.261417 \n",
       " -0.0469902   0.194294     0.0317203       0.178778   -0.0537646   -0.102121 \n",
       " -0.139004   -8.49303e-5  -0.0312556       0.0348041   0.0937222   -0.162096 \n",
       " -0.421971    0.6148       0.149429        0.419286   -0.228327    -0.707821 \n",
       "  0.262332   -0.598097    -0.160874    …  -0.446333    0.159481     0.54288  \n",
       "  0.134491    0.0703521   -0.0762117      -0.013918   -0.0337103    0.0396822\n",
       "  0.0505254  -0.0121225    0.0241283      -0.0037072   0.00638724   0.138595 \n",
       "  ⋮                                    ⋱                                     \n",
       "  0.155538   -0.212204    -0.0511734      -0.133654   -0.0198093    0.335497 \n",
       "  0.273528   -0.586852    -0.168859       -0.401851    0.041532     0.603958 \n",
       " -0.141993    0.384615     0.143076    …   0.255766   -0.186921    -0.335234 \n",
       " -0.54629     0.943611     0.250621        0.723604   -0.253276    -0.897638 \n",
       "  0.178027   -0.339205    -0.0618981      -0.18289     0.105697     0.44445  \n",
       " -0.102104    0.331863     0.0625914       0.198994   -0.161801    -0.351017 \n",
       " -0.286215    0.740641     0.249692        0.486513   -0.263395    -0.606209 \n",
       "  0.0752903   0.0794611   -0.0106903   …   0.0352453   0.103129    -0.0674188\n",
       " -0.0204117  -0.116121     0.0262224      -0.0113419   0.0900372    0.0505059\n",
       " -0.0687529  -0.0580141   -0.0100333      -0.053497    0.0135512   -0.0204064\n",
       " -0.125831    0.26297     -0.00128621      0.204901   -0.104044    -0.246222 \n",
       " -0.019969   -0.216492    -0.0527674      -0.214523    0.0784739    0.107156 "
      ]
     },
     "execution_count": 4,
     "metadata": {},
     "output_type": "execute_result"
    }
   ],
   "source": [
    "@time invA1000 = inv(A1000)"
   ]
  },
  {
   "cell_type": "code",
   "execution_count": 5,
   "metadata": {
    "scrolled": true
   },
   "outputs": [
    {
     "name": "stdout",
     "output_type": "stream",
     "text": [
      " 59.064754 seconds (20 allocations: 1.495 GB, 0.47% gc time)\n"
     ]
    },
    {
     "data": {
      "text/plain": [
       "10000×10000 Array{Float64,2}:\n",
       "  0.138147    -0.0484768   -0.129578    …  -0.0525086    0.036694  \n",
       "  0.173089    -0.0633479   -0.139401       -0.0869339    0.0265879 \n",
       "  0.243845    -0.116325    -0.200662       -0.123527     0.0699902 \n",
       " -0.286281     0.130757     0.262908        0.111558    -0.0859359 \n",
       " -0.316549     0.114913     0.245908        0.143727    -0.0794779 \n",
       " -0.101335    -0.0432858    0.045097    …   0.0520942   -0.0188997 \n",
       " -0.0245012    0.0321031    0.0357176       0.0027861   -0.0117076 \n",
       "  0.303023    -0.0321501   -0.214556       -0.145242     0.0839506 \n",
       "  0.305002    -0.0588719   -0.234955       -0.121881     0.0557671 \n",
       "  0.224414    -0.0710901   -0.202936       -0.080067     0.064571  \n",
       " -0.562702     0.198744     0.469517    …   0.25062     -0.177957  \n",
       " -0.124342     0.0669703    0.100312        0.0482026   -0.0419834 \n",
       " -0.204593     0.0283581    0.140265        0.0929845   -0.0471707 \n",
       "  ⋮                                     ⋱                          \n",
       " -0.122199     0.0872804    0.116917        0.0671134   -0.0305283 \n",
       " -0.385706     0.158926     0.326232        0.177374    -0.121923  \n",
       " -0.00668967  -0.0128761   -0.0117551   …   0.0118757   -0.00277406\n",
       "  0.0066215   -0.012385    -0.0082184       0.00417036  -0.014405  \n",
       " -0.183086     0.0977034    0.165216        0.0677742   -0.0540417 \n",
       "  0.406964    -0.134144    -0.324512       -0.179061     0.124632  \n",
       "  0.089788    -0.0336928   -0.0531374      -0.0326126    0.00598345\n",
       " -0.0101107    0.0517409    0.0190833   …  -0.0137166   -0.0133719 \n",
       "  0.021825    -0.0240912    0.00435688     -0.00479525   0.00580567\n",
       " -0.0469263    0.00980783   0.0521802       0.0220963   -0.0344061 \n",
       " -0.0858793    0.0521891    0.109856        0.0270818   -0.017318  \n",
       " -0.293238     0.105103     0.216425        0.130321    -0.0699993 "
      ]
     },
     "execution_count": 5,
     "metadata": {},
     "output_type": "execute_result"
    }
   ],
   "source": [
    "@time invA10000 = inv(A10000)"
   ]
  },
  {
   "cell_type": "markdown",
   "metadata": {},
   "source": [
    "What is machine epsilon, machine zero and machine infinity in Julia?"
   ]
  },
  {
   "cell_type": "code",
   "execution_count": 6,
   "metadata": {},
   "outputs": [
    {
     "name": "stdout",
     "output_type": "stream",
     "text": [
      "Machine epsilon is 2.220446049250313e-16.\n"
     ]
    },
    {
     "data": {
      "text/html": [
       "false"
      ],
      "text/plain": [
       "false"
      ]
     },
     "execution_count": 6,
     "metadata": {},
     "output_type": "execute_result"
    }
   ],
   "source": [
    "println(\"Machine epsilon is $(eps()).\")\n",
    "\n",
    "1+eps()/2 > 1"
   ]
  },
  {
   "cell_type": "code",
   "execution_count": 7,
   "metadata": {},
   "outputs": [
    {
     "name": "stdout",
     "output_type": "stream",
     "text": [
      "Machine zero is 2.2250738585072014e-308.\n"
     ]
    }
   ],
   "source": [
    "println(\"Machine zero is $(realmin()).\")"
   ]
  },
  {
   "cell_type": "code",
   "execution_count": 8,
   "metadata": {},
   "outputs": [
    {
     "name": "stdout",
     "output_type": "stream",
     "text": [
      "Machine infinity is 1.7976931348623157e308.\n"
     ]
    }
   ],
   "source": [
    "println(\"Machine infinity is $(realmax()).\")"
   ]
  },
  {
   "cell_type": "markdown",
   "metadata": {},
   "source": [
    "# Problem 4\n",
    "Compute one-sided finite differences of x^2 at x=2 for differences of $h=1e-8, 1e-12, 1e-30, 1e-1$."
   ]
  },
  {
   "cell_type": "code",
   "execution_count": 9,
   "metadata": {},
   "outputs": [
    {
     "name": "stdout",
     "output_type": "stream",
     "text": [
      "3.999999975690116\n",
      "4.000355602329364\n",
      "0.0\n",
      "4.100000000000001\n"
     ]
    }
   ],
   "source": [
    "# Finite-difference as a function of the difference h and value x\n",
    "x_sq_deriv(h,x) = ((x+h)^2 - x^2)/h\n",
    "\n",
    "# Display several finite differences\n",
    "println(x_sq_deriv(1.e-8,2.))\n",
    "println(x_sq_deriv(1.e-12,2.))\n",
    "println(x_sq_deriv(1.e-30,2.))\n",
    "println(x_sq_deriv(1.e-1,2.))"
   ]
  },
  {
   "cell_type": "markdown",
   "metadata": {},
   "source": [
    "# Problem 5\n",
    "Compute the same inverse with two different inversion techniques, the standard inversion algorithm and LU-Factorization."
   ]
  },
  {
   "cell_type": "code",
   "execution_count": 10,
   "metadata": {},
   "outputs": [
    {
     "name": "stdout",
     "output_type": "stream",
     "text": [
      " 61.463551 seconds (20 allocations: 1.495 GB, 0.16% gc time)\n",
      " 70.587369 seconds (747.95 k allocations: 2.263 GB, 0.58% gc time)\n",
      "The maximum relative error is 2.470174083523354e-5.\n"
     ]
    }
   ],
   "source": [
    "A = rand(10000,10000)\n",
    "@time inv1 = inv(A)\n",
    "@time inv2 = A\\eye(10000,10000)\n",
    "println(\"The maximum relative error is $(maximum((inv1-inv2)./inv1)).\")"
   ]
  },
  {
   "cell_type": "markdown",
   "metadata": {},
   "source": [
    "# Problem 6\n",
    "Are these two expressions numerically equivalent?"
   ]
  },
  {
   "cell_type": "code",
   "execution_count": 11,
   "metadata": {},
   "outputs": [
    {
     "name": "stdout",
     "output_type": "stream",
     "text": [
      "Truncation error!\n"
     ]
    }
   ],
   "source": [
    "x = (1e-20 + 1) -1\n",
    "y = 1e-20 + (1 - 1)\n",
    "\n",
    "# Logical Statement ? Do this if true : else do this\n",
    "x==y ? println(\"Equivalent!\") : println(\"Truncation error!\")"
   ]
  },
  {
   "cell_type": "markdown",
   "metadata": {},
   "source": [
    "# Problem 7\n",
    "Are these two expressions numerically equivalent?"
   ]
  },
  {
   "cell_type": "code",
   "execution_count": 12,
   "metadata": {},
   "outputs": [
    {
     "name": "stdout",
     "output_type": "stream",
     "text": [
      "Truncation error!\n"
     ]
    }
   ],
   "source": [
    "x = 100000.2 - 100000.1\n",
    "y = .1\n",
    "\n",
    "# Logical Statement ? Do this if true : else do this\n",
    "x==y ? println(\"Equivalent!\") : println(\"Truncation error!\")"
   ]
  }
 ],
 "metadata": {
  "kernelspec": {
   "display_name": "Julia 0.5.2",
   "language": "julia",
   "name": "julia-0.5"
  },
  "language_info": {
   "file_extension": ".jl",
   "mimetype": "application/julia",
   "name": "julia",
   "version": "0.5.2"
  }
 },
 "nbformat": 4,
 "nbformat_minor": 2
}
