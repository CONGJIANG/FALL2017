{
 "cells": [
  {
   "cell_type": "markdown",
   "metadata": {},
   "source": [
    "## Problem 1\n",
    "If we have a constant elasticity demand function, $q=\\frac{1}{2}p^{-0.2} + \\frac{1}{2}p^{-0.5}$ and a quantity demanded of q=2, what market price clears the market?\n",
    "\n",
    "This has no closed form solution, but we can solve it numerically with Newton's method."
   ]
  },
  {
   "cell_type": "code",
   "execution_count": 2,
   "metadata": {},
   "outputs": [
    {
     "name": "stdout",
     "output_type": "stream",
     "text": [
      "The equilibrium price is $0.15419764093263613.\n"
     ]
    },
    {
     "name": "stderr",
     "output_type": "stream",
     "text": [
      "WARNING: Method definition demand_function(Any) in module Main at In[1]:5 overwritten at In[2]:5.\n",
      "WARNING: Method definition demand_function_gradient(Any) in module Main at In[1]:6 overwritten at In[2]:6.\n"
     ]
    }
   ],
   "source": [
    "# Initial price guess\n",
    "p = 0.25\n",
    "\n",
    "# Initialize stepsize\n",
    "deltap = 1.0e10\n",
    "\n",
    "# Demand function\n",
    "demand_function(p) = (.5*p^(-.2)+.5*p^( -.5) -2)\n",
    "# Gradient of demand function\n",
    "demand_function_gradient(p) = (.1*p^(-1.2) +.25*p^(-1.5))\n",
    "\n",
    "# Loop through Newton's method until tolerance is met\n",
    "while abs(deltap) > 1e-8\n",
    "    deltap = demand_function(p)/demand_function_gradient(p)\n",
    "    p += deltap\n",
    "end\n",
    "println(\"The equilibrium price is \\$$p.\")"
   ]
  },
  {
   "cell_type": "markdown",
   "metadata": {},
   "source": [
    "## Problem 2\n",
    "Consider a two period model of an agricultural commodity market. Acreage decisions must be made before knowing the realization of per-acre yield and the price at harvest. The farmer has an expectation of the harvest price and makes decisions as a function of the expectation: $a = 0.5 + 0.5E[p]$. After planting, the random yield per-acre, $\\hat{y}$ is realized, producing a quantity $q = a\\hat{y}$ of the crop. Demand for the crop is given by the inverse demand function $p = 3 − 2q$ and the government sets a price floor of \\$1. Suppose $\\hat{y}$ is exogenous and has mean of $1$ and variance $0.1$. How much acreage does the farmer plant?"
   ]
  },
  {
   "cell_type": "code",
   "execution_count": 11,
   "metadata": {
    "scrolled": true
   },
   "outputs": [
    {
     "name": "stdout",
     "output_type": "stream",
     "text": [
      "The optimal number of acres planted is 1.0961217909687915.\n",
      "The expected price is 1.192243581937583.\n"
     ]
    }
   ],
   "source": [
    "using CompEcon\n",
    "# Create quadrature\n",
    "y, w = qnwnorm(10, 1, 0.1)\n",
    "# Loop through solution algorithm until tolerance is met\n",
    "a = 1.\n",
    "p = 0. # Need to define outside the loop to have correct scope\n",
    "diff = 100\n",
    "while diff > 1e-8\n",
    "    aold = a\n",
    "    p = 3.-2.*a*y\n",
    "    expectation = w'*max(p,1)\n",
    "    a = 0.5 + 0.5*expectation[1]\n",
    "    diff = abs(a-aold)\n",
    "end\n",
    "println(\"The optimal number of acres planted is $a.\")\n",
    "println(\"The expected price is $((w'*max(p,1))[1]).\")"
   ]
  },
  {
   "cell_type": "markdown",
   "metadata": {},
   "source": [
    "# Problem 3\n",
    "\n",
    "Test the time to invert increasing large matrices."
   ]
  },
  {
   "cell_type": "code",
   "execution_count": 13,
   "metadata": {},
   "outputs": [
    {
     "name": "stdout",
     "output_type": "stream",
     "text": [
      "  0.027020 seconds (18 allocations: 208.625 KB)\n"
     ]
    },
    {
     "data": {
      "text/plain": [
       "100×100 Array{Float64,2}:\n",
       "  0.314178    0.414828   -0.744846   …  -0.944794     0.584066    0.132376 \n",
       " -0.35476     0.422016   -0.355771       0.012393    -0.43509     0.427992 \n",
       "  0.746051   -0.582298    0.452309       0.329383    -0.0901009  -0.654968 \n",
       " -0.348241   -1.30599     1.53015        0.653593     0.573923    0.213615 \n",
       "  0.121475   -0.401569    0.298225       0.208602    -0.0304564  -0.259734 \n",
       " -0.462659    0.38701    -0.163522   …   0.0781348   -0.507204    0.369231 \n",
       " -0.699379    0.127138    0.132448       0.29805     -0.0974825   0.596443 \n",
       "  0.395555   -1.46667     1.65829        0.865178     0.132029   -0.478953 \n",
       " -0.239583    0.0180171  -0.0801322     -0.309664     0.287223    0.322167 \n",
       " -0.210837   -0.12944     0.0763708      0.257421     0.0966449  -0.163674 \n",
       " -0.189511    0.449033   -0.426105   …  -0.00648152  -0.148858    0.0940218\n",
       "  0.270217    0.973619   -0.825945      -0.314284    -0.465722    0.106419 \n",
       "  0.577921   -0.975414    0.812979       0.150794     0.533826   -0.52609  \n",
       "  ⋮                                  ⋱                                     \n",
       " -0.497699    0.274546   -0.222153      -0.185817    -0.155059    0.445126 \n",
       "  0.349626   -0.902992    0.583894       0.125177     0.409974   -0.338978 \n",
       "  0.335965   -0.208272    0.371747   …   0.389677    -0.182642   -0.238875 \n",
       "  0.348982    0.898068   -1.26322       -0.802883    -0.101953   -0.290084 \n",
       " -0.348687    0.388464   -0.125729       0.17836     -0.194671    0.277709 \n",
       " -0.201612    0.658334   -0.832206      -0.69053      0.330063    0.562863 \n",
       " -0.561001    1.24369    -1.07155       -0.0103562   -0.591522    0.602288 \n",
       " -0.0738831   0.0737381  -0.125682   …   0.0157631    0.0808059   0.0728416\n",
       "  0.33417    -0.22029    -0.0414799     -0.0113469    0.198843   -0.380342 \n",
       "  0.372653    0.822773   -1.17628       -0.769629    -0.122901    0.124207 \n",
       "  0.271752    0.198659   -0.170898      -0.150282    -0.185971   -0.211888 \n",
       " -0.342934    0.512165   -0.738509      -0.119779    -0.0440251   0.152173 "
      ]
     },
     "execution_count": 13,
     "metadata": {},
     "output_type": "execute_result"
    }
   ],
   "source": [
    "# Initialize matrices\n",
    "A100 = rand(100,100)\n",
    "A1000 = rand(1000,1000)\n",
    "A10000 = rand(10000,10000)\n",
    "\n",
    "@time invA100 = inv(A100)"
   ]
  },
  {
   "cell_type": "code",
   "execution_count": 14,
   "metadata": {
    "scrolled": true
   },
   "outputs": [
    {
     "name": "stdout",
     "output_type": "stream",
     "text": [
      "  0.056207 seconds (18 allocations: 15.763 MB, 12.31% gc time)\n"
     ]
    },
    {
     "data": {
      "text/plain": [
       "1000×1000 Array{Float64,2}:\n",
       " -0.0453542    0.0295154    0.034791    …  -0.0835986    0.0507144 \n",
       " -0.0384999    0.0965783   -0.0436581       0.16859     -0.0203407 \n",
       " -0.111322    -0.250322    -0.051484       -0.155057    -0.0257461 \n",
       "  0.188572     0.163549    -0.0550969       0.117196     0.142108  \n",
       " -0.15592     -0.223484     0.019403       -0.180683    -0.0858814 \n",
       "  0.115305     0.0884322    0.00121337  …   0.14225      0.0480415 \n",
       "  0.0415406    0.00634901  -0.013554        0.0781983    0.00228243\n",
       "  0.147623     0.219038    -0.0130374       0.185795     0.0355503 \n",
       " -0.11337      0.0193223   -0.023691        0.0366365   -0.0489415 \n",
       "  0.0936553    0.103829    -0.100648        0.043825     0.0349723 \n",
       "  0.0171289    0.138257     0.0179144   …   0.0696589    0.0702886 \n",
       "  0.00627621   0.0181764   -0.0346703       0.00582071   0.0195952 \n",
       "  0.0490268    0.245643    -0.0962926       0.186073     0.02512   \n",
       "  ⋮                                     ⋱                          \n",
       " -0.0134218   -0.0470427    0.130372        0.0167845   -0.0806204 \n",
       " -0.0448597   -0.0119115    0.00700582      0.00945516  -0.0181488 \n",
       " -0.0826257    0.0287696   -0.0384136   …  -0.0864171   -0.00450674\n",
       " -0.11645     -0.0771375   -0.0265789      -0.00438412  -0.045608  \n",
       "  0.0797161   -0.101588    -0.0133228      -0.0641462   -0.0696904 \n",
       "  0.0690105    0.180915    -0.0863761       0.195191     0.0194886 \n",
       " -0.0444182   -0.0323       0.00740374     -0.082902     0.0562996 \n",
       " -0.0461545   -0.109943    -0.0142943   …  -0.0357024   -0.0490654 \n",
       " -0.0422484   -0.0914649   -0.0369245       0.00755313   0.0303682 \n",
       "  0.0576698    0.110601    -0.0772156       0.133986     0.0398927 \n",
       "  0.0802627    0.232971     0.101424        0.0873201    0.0749779 \n",
       "  0.059122     0.17338     -0.0428289       0.165375     0.0777575 "
      ]
     },
     "execution_count": 14,
     "metadata": {},
     "output_type": "execute_result"
    }
   ],
   "source": [
    "@time invA1000 = inv(A1000)"
   ]
  },
  {
   "cell_type": "code",
   "execution_count": 5,
   "metadata": {
    "scrolled": true
   },
   "outputs": [
    {
     "name": "stdout",
     "output_type": "stream",
     "text": [
      " 42.451009 seconds (20 allocations: 1.495 GB, 0.60% gc time)\n"
     ]
    },
    {
     "data": {
      "text/plain": [
       "10000×10000 Array{Float64,2}:\n",
       " -0.00423179   -0.013096     -0.0193125    …  -0.0359155    -0.00462805\n",
       "  0.0466818     0.0170918     0.0189544       -0.0204362    -0.01242   \n",
       "  0.00309774    0.0335508    -0.0373687        0.0176999     0.0349658 \n",
       "  0.0187872     0.0392906     0.00957787       0.0182201    -0.0171627 \n",
       " -0.025415     -0.0651528    -0.0179104       -0.0335006    -0.0124089 \n",
       " -0.0265878     0.0119113    -0.0101247    …   0.0182107     0.00382337\n",
       " -0.00696206   -0.0161976     0.0127201       -0.00645754   -0.00363264\n",
       "  0.0272717    -0.0203561    -0.00382501      -0.0292553    -0.0197355 \n",
       "  0.0485846     0.0125109     0.000916804     -0.00344147    0.00792753\n",
       " -0.0350488     0.0365199    -0.0309078        0.0364674     0.0319039 \n",
       " -0.0784126     0.0181312    -0.0393303    …   0.02697       0.0357876 \n",
       "  0.000611882   0.0138619    -0.0182312        0.0100558     0.0175744 \n",
       " -0.0306553     0.0464505    -0.0362586        0.0428833     0.0348834 \n",
       "  ⋮                                        ⋱                           \n",
       "  0.0965958     0.0230385     0.0653585        0.000342099  -0.0570471 \n",
       " -0.0207214     0.0129637    -0.0182151        0.0034187     0.00368187\n",
       " -0.00614802   -0.0131435    -0.00529534   …  -0.012926      0.00476595\n",
       " -0.0138764    -0.0187722     0.00518192       0.0255156     0.0245811 \n",
       "  0.0507785    -0.00585079   -0.000356698     -0.011398     -0.015329  \n",
       " -0.00542504    0.0308991    -0.00583189       0.0136295     7.1272e-5 \n",
       " -0.0305626    -0.0409441    -0.0110487       -0.0152526     0.00634616\n",
       " -0.00995231   -0.000608109   0.00884407   …  -0.0159554    -0.0108142 \n",
       "  0.0562673    -0.0294789     0.0485924       -0.0159102    -0.0408218 \n",
       "  0.031545     -0.0490477     0.0546686       -0.0288221    -0.0354351 \n",
       " -0.0265663    -0.0386143    -0.0137253       -0.0115        0.0148455 \n",
       "  0.037619     -0.0332149     0.0186877       -0.0395096    -0.0454274 "
      ]
     },
     "execution_count": 5,
     "metadata": {},
     "output_type": "execute_result"
    }
   ],
   "source": [
    "@time invA10000 = inv(A10000)"
   ]
  },
  {
   "cell_type": "markdown",
   "metadata": {},
   "source": [
    "What is machine epsilon, machine zero and machine infinity in Julia?"
   ]
  },
  {
   "cell_type": "code",
   "execution_count": 6,
   "metadata": {},
   "outputs": [
    {
     "name": "stdout",
     "output_type": "stream",
     "text": [
      "Machine epsilon is 2.220446049250313e-16.\n"
     ]
    },
    {
     "data": {
      "text/html": [
       "false"
      ],
      "text/plain": [
       "false"
      ]
     },
     "execution_count": 6,
     "metadata": {},
     "output_type": "execute_result"
    }
   ],
   "source": [
    "println(\"Machine epsilon is $(eps()).\")\n",
    "\n",
    "1+eps()/2 > 1"
   ]
  },
  {
   "cell_type": "code",
   "execution_count": 7,
   "metadata": {},
   "outputs": [
    {
     "name": "stdout",
     "output_type": "stream",
     "text": [
      "Machine zero is 2.2250738585072014e-308.\n"
     ]
    }
   ],
   "source": [
    "println(\"Machine zero is $(realmin()).\")"
   ]
  },
  {
   "cell_type": "code",
   "execution_count": 8,
   "metadata": {},
   "outputs": [
    {
     "name": "stdout",
     "output_type": "stream",
     "text": [
      "Machine infinity is 1.7976931348623157e308.\n"
     ]
    }
   ],
   "source": [
    "println(\"Machine infinity is $(realmax()).\")"
   ]
  },
  {
   "cell_type": "markdown",
   "metadata": {},
   "source": [
    "# Problem 4\n",
    "Compute one-sided finite differences of x^2 at x=2 for differences of $h=1e-8, 1e-12, 1e-30, 1e-1$."
   ]
  },
  {
   "cell_type": "code",
   "execution_count": 9,
   "metadata": {},
   "outputs": [
    {
     "name": "stdout",
     "output_type": "stream",
     "text": [
      "3.999999975690116\n",
      "4.000355602329364\n",
      "0.0\n",
      "4.100000000000001\n"
     ]
    }
   ],
   "source": [
    "# Finite-difference as a function of the difference h and value x\n",
    "x_sq_deriv(h,x) = ((x+h)^2 - x^2)/h\n",
    "\n",
    "# Display several finite differences\n",
    "println(x_sq_deriv(1.e-8,2.))\n",
    "println(x_sq_deriv(1.e-12,2.))\n",
    "println(x_sq_deriv(1.e-30,2.))\n",
    "println(x_sq_deriv(1.e-1,2.))"
   ]
  },
  {
   "cell_type": "markdown",
   "metadata": {},
   "source": [
    "# Problem 5\n",
    "Compute the same inverse with two different inversion techniques, the standard inversion algorithm and LU-Factorization."
   ]
  },
  {
   "cell_type": "code",
   "execution_count": 1,
   "metadata": {},
   "outputs": [
    {
     "name": "stdout",
     "output_type": "stream",
     "text": [
      " 25.112230 seconds (105.93 k allocations: 1.499 GB, 0.62% gc time)\n",
      " 22.488281 seconds (824.29 k allocations: 2.267 GB, 0.76% gc time)\n",
      "The maximum relative error is 6.024398662566924e-6.\n"
     ]
    }
   ],
   "source": [
    "A = rand(10000,10000)\n",
    "@time inv1 = inv(A)\n",
    "@time inv2 = A\\eye(10000,10000)\n",
    "println(\"The maximum relative error is $(maximum((inv1-inv2)./inv1)).\")"
   ]
  },
  {
   "cell_type": "markdown",
   "metadata": {},
   "source": [
    "# Problem 6\n",
    "Are these two expressions numerically equivalent?"
   ]
  },
  {
   "cell_type": "code",
   "execution_count": 2,
   "metadata": {},
   "outputs": [
    {
     "name": "stdout",
     "output_type": "stream",
     "text": [
      "Truncation error!\n"
     ]
    }
   ],
   "source": [
    "x = (1e-20 + 1) -1\n",
    "y = 1e-20 + (1 - 1)\n",
    "\n",
    "# Logical Statement ? Do this if true : else do this\n",
    "x==y ? println(\"Equivalent!\") : println(\"Truncation error!\")"
   ]
  },
  {
   "cell_type": "markdown",
   "metadata": {},
   "source": [
    "# Problem 7\n",
    "Are these two expressions numerically equivalent?"
   ]
  },
  {
   "cell_type": "code",
   "execution_count": 3,
   "metadata": {},
   "outputs": [
    {
     "name": "stdout",
     "output_type": "stream",
     "text": [
      "Truncation error!\n"
     ]
    }
   ],
   "source": [
    "x = 100000.2 - 100000.1\n",
    "y = .1\n",
    "\n",
    "# Logical Statement ? Do this if true : else do this\n",
    "x==y ? println(\"Equivalent!\") : println(\"Truncation error!\")"
   ]
  }
 ],
 "metadata": {
  "kernelspec": {
   "display_name": "Julia 0.5.2",
   "language": "julia",
   "name": "julia-0.5"
  },
  "language_info": {
   "file_extension": ".jl",
   "mimetype": "application/julia",
   "name": "julia",
   "version": "0.5.2"
  }
 },
 "nbformat": 4,
 "nbformat_minor": 2
}
