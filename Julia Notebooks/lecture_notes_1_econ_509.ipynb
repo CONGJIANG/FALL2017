{
 "cells": [
  {
   "cell_type": "markdown",
   "metadata": {},
   "source": [
    "## Problem 1\n",
    "If we have a constant elasticity demand function, $q=\\frac{1}{2}p^{-0.2} + \\frac{1}{2}p^{-0.5}$ and a quantity demanded of q=2, what market price clears the market?\n",
    "\n",
    "This has no closed form solution, but we can solve it numerically with Newton's method."
   ]
  },
  {
   "cell_type": "code",
   "execution_count": 1,
   "metadata": {
    "collapsed": false
   },
   "outputs": [
    {
     "data": {
      "image/png": "[encoded data removed]",
      "text/plain": [
       "PyPlot.Figure(PyObject <matplotlib.figure.Figure object at 0x7f61ee8260d0>)"
      ]
     },
     "metadata": {},
     "output_type": "display_data"
    },
    {
     "data": {
      "text/plain": [
       "PyObject <matplotlib.text.Text object at 0x7f61ec5b2b50>"
      ]
     },
     "execution_count": 1,
     "metadata": {},
     "output_type": "execute_result"
    }
   ],
   "source": [
    "# Plot the function\n",
    "using PyPlot\n",
    "\n",
    "# We know solution is between .1 and .2\n",
    "x = linspace(.1,.2,1000)\n",
    "z = 2*ones(length(x))\n",
    "# Price function minus equilibrium quantity of 2\n",
    "price(p) = 0.5*p.^(-0.2) + 0.5*p.^(-0.5)\n",
    "\n",
    "# Get corresponding quantity values at these prices\n",
    "y = price(x)\n",
    "\n",
    "# Plot\n",
    "plot(x, y, color=\"red\", linewidth=2.0)\n",
    "plot(x, z, color=\"blue\", linewidth=0.5, linestyle=\"--\")\n",
    "title(\"Where's the root?\")"
   ]
  },
  {
   "cell_type": "code",
   "execution_count": 2,
   "metadata": {
    "collapsed": false
   },
   "outputs": [
    {
     "name": "stdout",
     "output_type": "stream",
     "text": [
      "The equilibrium price is $0.154.\n"
     ]
    }
   ],
   "source": [
    "# Initial price guess\n",
    "p = 0.20\n",
    "\n",
    "# Initialize stepsize\n",
    "deltap = 1.0e10\n",
    "\n",
    "# Demand function\n",
    "demand_function(p) = (.5*p^(-.2)+.5*p^( -.5) -2)\n",
    "# Gradient of demand function\n",
    "demand_function_gradient(p) = (.1*p^(-1.2) +.25*p^(-1.5))\n",
    "\n",
    "# Loop through Newton's method until tolerance is met\n",
    "while abs(deltap) > 1e-8\n",
    "    deltap = demand_function(p)/demand_function_gradient(p)\n",
    "    p += deltap\n",
    "end\n",
    "\n",
    "println(\"The equilibrium price is \\$$(round(p*1000)/1000).\")"
   ]
  },
  {
   "cell_type": "markdown",
   "metadata": {},
   "source": [
    "## Problem 2\n",
    "Consider a two period model of an agricultural commodity market. Acreage decisions must be made before knowing the realization of per-acre yield and the price at harvest. The farmer has an expectation of the harvest price and makes decisions as a function of the expectation: $a = 0.5 + 0.5E[p]$. After planting, the random yield per-acre, $\\hat{y}$ is realized, producing a quantity $q = a\\hat{y}$ of the crop. Demand for the crop is given by the inverse demand function $p = 3 − 2q$ and the government sets a price floor of \\$1. Suppose $\\hat{y}$ is exogenous and has mean of $1$ and variance $0.1$. How much acreage does the farmer plant?"
   ]
  },
  {
   "cell_type": "code",
   "execution_count": 5,
   "metadata": {
    "collapsed": false,
    "scrolled": true
   },
   "outputs": [
    {
     "name": "stderr",
     "output_type": "stream",
     "text": [
      "\u001b[1m\u001b[34mINFO: Precompiling module CompEcon.\n",
      "\u001b[0mWARNING: Method definition count() in module IterTools at deprecated.jl:49 overwritten in module Iterators at deprecated.jl:49.\n",
      "WARNING: Method definition count(Number) in module IterTools at deprecated.jl:49 overwritten in module Iterators at deprecated.jl:49.\n",
      "WARNING: Method definition count(Number, Number) in module IterTools at deprecated.jl:49 overwritten in module Iterators at deprecated.jl:49.\n",
      "WARNING: Method definition count() in module IterTools at deprecated.jl:49 overwritten in module Iterators at deprecated.jl:49.\n",
      "WARNING: Method definition count(Number) in module IterTools at deprecated.jl:49 overwritten in module Iterators at deprecated.jl:49.\n",
      "WARNING: Method definition count(Number, Number) in module IterTools at deprecated.jl:49 overwritten in module Iterators at deprecated.jl:49.\n"
     ]
    },
    {
     "name": "stdout",
     "output_type": "stream",
     "text": [
      "The optimal number of acres planted is 1.096.\n",
      "The expected price is 1.192.\n"
     ]
    },
    {
     "name": "stderr",
     "output_type": "stream",
     "text": [
      "WARNING: Method definition count() in module IterTools at deprecated.jl:49 overwritten in module Iterators at deprecated.jl:49.\n",
      "WARNING: Method definition count(Number) in module IterTools at deprecated.jl:49 overwritten in module Iterators at deprecated.jl:49.\n",
      "WARNING: Method definition count(Number, Number) in module IterTools at deprecated.jl:49 overwritten in module Iterators at deprecated.jl:49.\n"
     ]
    }
   ],
   "source": [
    "using CompEcon\n",
    "# Create quadrature\n",
    "y, w = qnwnorm(10, 1, 0.1)\n",
    "\n",
    "# Initial guess for acreage\n",
    "a = 1.\n",
    "p = 0. # Need to define price outside the loop to have correct scope\n",
    "diff = 100\n",
    "\n",
    "# Loop through solution algorithm until tolerance is met\n",
    "while diff > 1e-8\n",
    "    # Save old acreage\n",
    "    aold = a\n",
    "    # Get price at all the quadrature nodes y\n",
    "    p = 3.-2.*a*y\n",
    "    # Compute expected price with price floor\n",
    "    expectation = w'*max(p,1)\n",
    "    # Get new acreage planted given new price\n",
    "    a = 0.5 + 0.5*expectation[1]\n",
    "    # Get difference between old and new acreage\n",
    "    diff = abs(a-aold)\n",
    "end\n",
    "\n",
    "println(\"The optimal number of acres planted is $(round(a*1000)/1000).\")\n",
    "println(\"The expected price is $(round((w'*max(p,1))[1]*1000)/1000).\")"
   ]
  },
  {
   "cell_type": "markdown",
   "metadata": {},
   "source": [
    "# Problem 3\n",
    "\n",
    "Test the time to invert increasing large matrices."
   ]
  },
  {
   "cell_type": "code",
   "execution_count": 10,
   "metadata": {
    "collapsed": false
   },
   "outputs": [
    {
     "name": "stdout",
     "output_type": "stream",
     "text": [
      "  0.009449 seconds (17 allocations: 208.578 KB)\n"
     ]
    },
    {
     "data": {
      "text/plain": [
       "100×100 Array{Float64,2}:\n",
       "  0.302027     1.49941      0.218041   …  -0.122225    0.275047    0.185033 \n",
       "  0.00597048  -0.61053     -0.259047       0.0689332  -0.186578   -0.245418 \n",
       "  0.214189    -0.654128    -0.845369      -0.126759   -0.143699   -0.263626 \n",
       "  0.00433447   0.377561     0.0860121     -0.0827963   0.317396    0.141982 \n",
       "  0.176594     0.515905    -0.141904       0.106142    0.119844   -0.0905616\n",
       "  0.0548005    0.43617     -0.328496   …  -0.130857   -0.367003    0.0744987\n",
       " -0.03589     -0.218515    -0.108442      -0.0679167   0.118435    0.0012235\n",
       "  0.437721    -1.27478     -1.27932       -0.434004   -0.260992   -0.363766 \n",
       " -0.0269112   -0.00940785  -0.17584        0.212917    0.443497   -0.250951 \n",
       "  0.00459393  -0.591427    -0.720454      -0.0915741  -0.0325492  -0.129622 \n",
       "  0.253061     0.0623222   -0.723409   …   0.126294    0.0473554  -0.227535 \n",
       " -0.148157     0.562437     0.0635593     -0.102977    0.374631    0.177711 \n",
       " -0.0830957    0.322832     0.479032       0.0978137   0.268892    0.034283 \n",
       "  ⋮                                    ⋱                                    \n",
       "  0.367916    -0.492236    -0.901409      -0.0464989  -0.106867   -0.330292 \n",
       " -0.232849     0.138397     0.571222       0.0203611  -0.054394    0.463063 \n",
       " -0.0495299   -1.6543      -0.67894    …  -0.294807    0.0965584  -0.266107 \n",
       "  0.101309    -0.436665    -0.762644      -0.104242    0.0856032  -0.304868 \n",
       "  0.124028     1.20925      0.0987331      0.0321362  -0.0923734   0.348675 \n",
       " -0.146003     0.176686     0.417219       0.212796   -0.0678181   0.238042 \n",
       " -0.229261     0.78511     -0.130488      -0.118575    0.26086    -0.119501 \n",
       " -0.0685043   -0.535431     0.376774   …  -0.0211294   0.238979    0.0481996\n",
       "  0.0553674    1.14988      0.658997       0.0498575   0.108289    0.402116 \n",
       " -0.278586    -0.196475    -0.343036      -0.0394547  -0.0408283  -0.13636  \n",
       "  0.0142658    0.441608    -0.164892       0.29635    -0.114241    0.0186111\n",
       " -0.052762     0.436191    -0.105916       0.0866142  -0.109066   -0.0149795"
      ]
     },
     "execution_count": 10,
     "metadata": {},
     "output_type": "execute_result"
    }
   ],
   "source": [
    "# Initialize matrices\n",
    "A100 = rand(100,100)\n",
    "A1000 = rand(1000,1000)\n",
    "A10000 = rand(10000,10000)\n",
    "\n",
    "@time invA100 = inv(A100)"
   ]
  },
  {
   "cell_type": "code",
   "execution_count": 8,
   "metadata": {
    "collapsed": false,
    "scrolled": true
   },
   "outputs": [
    {
     "name": "stdout",
     "output_type": "stream",
     "text": [
      "  0.062391 seconds (17 allocations: 15.763 MB)\n"
     ]
    },
    {
     "data": {
      "text/plain": [
       "1000×1000 Array{Float64,2}:\n",
       "  0.488078     0.253716   -0.0123705   …   0.781872    -0.218015  \n",
       "  0.129619     0.125747   -0.197981        0.181986    -0.0536074 \n",
       "  0.0367427    0.179863    0.0226684       0.275132    -0.0975394 \n",
       "  0.246433     0.135241   -0.14526         0.401263    -0.219644  \n",
       "  0.0682656    0.102582    0.10765         0.261914    -0.0648654 \n",
       "  0.125121    -0.0156507  -0.137232    …   0.292114    -0.108354  \n",
       "  0.0349343   -0.0191411  -0.0546742       0.15125     -0.0756142 \n",
       "  0.456681     0.312723   -0.174541        0.71796     -0.178574  \n",
       "  0.0411671   -0.0780308   0.0239181       0.00116661  -0.0354648 \n",
       " -0.0221633   -0.051623   -0.211167       -0.334433     0.0890271 \n",
       "  0.112672     0.0243546  -0.0217745   …   0.499616    -0.210576  \n",
       "  0.262452     0.058889   -0.261287        0.789074    -0.312524  \n",
       "  0.0791589   -0.0175792   0.0565595      -0.0110528   -0.00880167\n",
       "  ⋮                                    ⋱                          \n",
       "  0.104025     0.0122946  -0.12293        -0.121391     0.042163  \n",
       "  0.00562697   0.0595826   0.0706844      -0.0853861    0.113709  \n",
       "  0.0864568    0.0859037  -0.0735168   …   0.459752    -0.236355  \n",
       "  0.011967    -0.0270935  -0.155485       -0.418843     0.0830974 \n",
       "  0.186628     0.0143987   0.0128224       0.225616    -0.0546231 \n",
       "  0.0885377    0.0554832  -0.0582862      -0.198444     0.0578111 \n",
       " -0.244463    -0.288063   -0.00312059     -0.25161      0.0224423 \n",
       "  0.112269     0.039154    0.0361974   …   0.273424    -0.116886  \n",
       "  0.0999911    0.294943    0.0631156       0.623319    -0.147836  \n",
       "  0.0177705    0.0229649  -0.107485        0.135873    -0.0339414 \n",
       " -0.109329    -0.128706    0.0689805      -0.177685     0.0426406 \n",
       "  0.011811    -0.0425658   0.0513622      -0.0749819    0.0330831 "
      ]
     },
     "execution_count": 8,
     "metadata": {},
     "output_type": "execute_result"
    }
   ],
   "source": [
    "@time invA1000 = inv(A1000)"
   ]
  },
  {
   "cell_type": "code",
   "execution_count": 11,
   "metadata": {
    "collapsed": false,
    "scrolled": true
   },
   "outputs": [
    {
     "name": "stdout",
     "output_type": "stream",
     "text": [
      " 27.605935 seconds (20 allocations: 1.495 GB, 0.03% gc time)\n"
     ]
    },
    {
     "data": {
      "text/plain": [
       "10000×10000 Array{Float64,2}:\n",
       " -0.0303939    0.0356062    0.0131623   …   0.0179415    0.00409976 \n",
       " -0.155104     0.0736871   -0.00249107      0.0306249    0.0477829  \n",
       " -0.224773     0.113026    -0.0160703       0.0290616    0.0538518  \n",
       " -0.102727     0.0269602   -0.00834753     -0.0291332    0.0276581  \n",
       "  0.0432515   -0.0171551    0.00168294     -0.00167829  -0.0188803  \n",
       " -0.00916208  -0.0388088    0.012811    …  -0.0312821   -0.054794   \n",
       "  0.0463339    0.00497364  -0.00901516      0.0209348    0.0035143  \n",
       " -0.0150227    0.0422304    0.00181632      0.0262259    0.0201779  \n",
       "  0.15249     -0.0928711   -0.00214264     -0.0458314   -0.0378225  \n",
       "  0.0118049    0.0371255   -0.0258258       0.0474853    0.0213974  \n",
       "  0.177316    -0.12335     -0.00634155  …  -0.0369849   -0.079085   \n",
       " -0.114993     0.0844778    0.0209744       0.0201971   -0.000295981\n",
       "  0.130152    -0.0474099    0.00814266      0.0162828   -0.0114012  \n",
       "  ⋮                                     ⋱                           \n",
       "  0.167273    -0.0753849    0.0280678      -0.0561244   -0.0541192  \n",
       " -0.010733     0.0618784    0.0203197       0.0688509    0.0157296  \n",
       "  0.1582      -0.0814725    0.0148016   …  -0.0305837   -0.0311456  \n",
       "  0.00549819   0.0488677   -0.0169112       0.0371474    0.0375717  \n",
       " -0.0922428    0.0698799   -0.00599759      0.0543783    0.0215714  \n",
       " -0.0213792    0.00926588   0.0146958       0.00225874  -0.00536099 \n",
       "  0.0912464   -0.0523398    0.0268166      -0.0250384   -0.0459003  \n",
       "  0.0136779    0.00764799   0.0177897   …  -0.032007     0.0289312  \n",
       " -0.00698451   0.012524    -0.0198848       0.0241486    0.0170071  \n",
       "  0.205406    -0.180387     0.0244424      -0.112106    -0.0828471  \n",
       " -0.129901     0.0312964    0.00148839     -0.0121506    0.0118504  \n",
       " -0.00328991  -0.0029628   -0.0153716       0.0248047   -0.0173523  "
      ]
     },
     "execution_count": 11,
     "metadata": {},
     "output_type": "execute_result"
    }
   ],
   "source": [
    "@time invA10000 = inv(A10000)"
   ]
  },
  {
   "cell_type": "markdown",
   "metadata": {},
   "source": [
    "What is machine epsilon, machine zero and machine infinity in Julia?"
   ]
  },
  {
   "cell_type": "code",
   "execution_count": null,
   "metadata": {
    "collapsed": false
   },
   "outputs": [],
   "source": [
    "println(\"Machine epsilon is $(eps()).\")\n",
    "\n",
    "1+eps()/2 > 1"
   ]
  },
  {
   "cell_type": "code",
   "execution_count": null,
   "metadata": {
    "collapsed": false
   },
   "outputs": [],
   "source": [
    "println(\"Machine zero is $(realmin()).\")"
   ]
  },
  {
   "cell_type": "code",
   "execution_count": null,
   "metadata": {
    "collapsed": false
   },
   "outputs": [],
   "source": [
    "println(\"Machine infinity is $(realmax()).\")"
   ]
  },
  {
   "cell_type": "markdown",
   "metadata": {},
   "source": [
    "# Problem 4\n",
    "Compute one-sided finite differences of x^2 at x=2 for differences of $h=1e-8, 1e-12, 1e-30, 1e-1$."
   ]
  },
  {
   "cell_type": "code",
   "execution_count": null,
   "metadata": {
    "collapsed": false
   },
   "outputs": [],
   "source": [
    "# Finite-difference as a function of the difference h and value x\n",
    "x_sq_deriv(h,x) = ((x+h)^2 - x^2)/h\n",
    "\n",
    "# Display several finite differences\n",
    "println(x_sq_deriv(1.e-8,2.))\n",
    "println(x_sq_deriv(1.e-12,2.))\n",
    "println(x_sq_deriv(1.e-30,2.))\n",
    "println(x_sq_deriv(1.e-1,2.))"
   ]
  },
  {
   "cell_type": "markdown",
   "metadata": {},
   "source": [
    "# Problem 5\n",
    "Compute the same inverse with two different inversion techniques, the standard inversion algorithm and LU-Factorization."
   ]
  },
  {
   "cell_type": "code",
   "execution_count": null,
   "metadata": {
    "collapsed": false
   },
   "outputs": [],
   "source": [
    "A = rand(10000,10000)\n",
    "@time inv1 = inv(A)\n",
    "@time inv2 = A\\eye(10000,10000)\n",
    "println(\"The maximum relative error is $(maximum((inv1-inv2)./inv1)).\")"
   ]
  },
  {
   "cell_type": "markdown",
   "metadata": {},
   "source": [
    "# Problem 6\n",
    "Are these two expressions numerically equivalent?"
   ]
  },
  {
   "cell_type": "code",
   "execution_count": null,
   "metadata": {
    "collapsed": false
   },
   "outputs": [],
   "source": [
    "x = (1e-20 + 1) -1\n",
    "y = 1e-20 + (1 - 1)\n",
    "\n",
    "# Logical Statement ? Do this if true : else do this\n",
    "x==y ? println(\"Equivalent!\") : println(\"Truncation error!\")"
   ]
  },
  {
   "cell_type": "markdown",
   "metadata": {},
   "source": [
    "# Problem 7\n",
    "Are these two expressions numerically equivalent?"
   ]
  },
  {
   "cell_type": "code",
   "execution_count": null,
   "metadata": {
    "collapsed": false
   },
   "outputs": [],
   "source": [
    "x = 100000.2 - 100000.1\n",
    "y = .1\n",
    "\n",
    "# Logical Statement ? Do this if true : else do this\n",
    "x==y ? println(\"Equivalent!\") : println(\"Truncation error!\")"
   ]
  },
  {
   "cell_type": "code",
   "execution_count": 16,
   "metadata": {
    "collapsed": false
   },
   "outputs": [
    {
     "data": {
      "text/html": [
       "8.331349481138783e-8"
      ],
      "text/plain": [
       "8.331349481138783e-8"
      ]
     },
     "execution_count": 16,
     "metadata": {},
     "output_type": "execute_result"
    }
   ],
   "source": [
    "abs(sin(.1)-(.1-.1^3/6))"
   ]
  }
 ],
 "metadata": {
  "kernelspec": {
   "display_name": "Julia 0.5.2",
   "language": "julia",
   "name": "julia-0.5"
  },
  "language_info": {
   "file_extension": ".jl",
   "mimetype": "application/julia",
   "name": "julia",
   "version": "0.5.2"
  }
 },
 "nbformat": 4,
 "nbformat_minor": 2
}
