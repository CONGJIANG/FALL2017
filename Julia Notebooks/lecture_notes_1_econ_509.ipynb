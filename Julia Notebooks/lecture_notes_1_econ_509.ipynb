{
 "cells": [
  {
   "cell_type": "markdown",
   "metadata": {},
   "source": [
    "## Problem 1\n",
    "If we have a constant elasticity demand function, $q=\\frac{1}{2}p^{-0.2} + \\frac{1}{2}p^{-0.5}$ and a quantity demanded of q=2, what market price clears the market?\n",
    "\n",
    "This has no closed form solution, but we can solve it numerically with Newton's method."
   ]
  },
  {
   "cell_type": "code",
   "execution_count": null,
   "metadata": {
    "collapsed": false
   },
   "outputs": [],
   "source": [
    "# Plot the function\n",
    "using PyPlot\n",
    "\n",
    "# We know solution is between .1 and .2\n",
    "x = linspace(.1,.2,1000)\n",
    "z = 2*ones(length(x))\n",
    "# Price function minus equilibrium quantity of 2\n",
    "price(p) = 0.5*p.^(-0.2) + 0.5*p.^(-0.5)\n",
    "\n",
    "# Get corresponding quantity values at these prices\n",
    "y = price(x)\n",
    "\n",
    "# Plot\n",
    "plot(x, y, color=\"red\", linewidth=2.0)\n",
    "plot(x, z, color=\"blue\", linewidth=0.5, linestyle=\"--\")\n",
    "title(\"Where's the root?\")"
   ]
  },
  {
   "cell_type": "code",
   "execution_count": null,
   "metadata": {
    "collapsed": false
   },
   "outputs": [],
   "source": [
    "# Initial price guess\n",
    "p = 0.20\n",
    "\n",
    "# Initialize stepsize\n",
    "deltap = 1.0e10\n",
    "\n",
    "# Demand function\n",
    "demand_function(p) = (.5*p^(-.2)+.5*p^( -.5) -2)\n",
    "# Gradient of demand function\n",
    "demand_function_gradient(p) = (.1*p^(-1.2) +.25*p^(-1.5))\n",
    "\n",
    "# Loop through Newton's method until tolerance is met\n",
    "while abs(deltap) > 1e-8\n",
    "    deltap = demand_function(p)/demand_function_gradient(p)\n",
    "    p += deltap\n",
    "end\n",
    "\n",
    "println(\"The equilibrium price is \\$$(round(p*1000)/1000).\")"
   ]
  },
  {
   "cell_type": "markdown",
   "metadata": {},
   "source": [
    "## Problem 2\n",
    "Consider a two period model of an agricultural commodity market. Acreage decisions must be made before knowing the realization of per-acre yield and the price at harvest. The farmer has an expectation of the harvest price and makes decisions as a function of the expectation: $a = 0.5 + 0.5E[p]$. After planting, the random yield per-acre, $\\hat{y}$ is realized, producing a quantity $q = a\\hat{y}$ of the crop. Demand for the crop is given by the inverse demand function $p = 3 − 2q$ and the government sets a price floor of \\$1. Suppose $\\hat{y}$ is exogenous and has mean of $1$ and variance $0.1$. How much acreage does the farmer plant?"
   ]
  },
  {
   "cell_type": "code",
   "execution_count": null,
   "metadata": {
    "collapsed": false,
    "scrolled": true
   },
   "outputs": [],
   "source": [
    "using CompEcon\n",
    "# Create quadrature\n",
    "y, w = qnwnorm(10, 1, 0.1)\n",
    "\n",
    "# Initial guess for acreage\n",
    "a = 1.\n",
    "p = 0. # Need to define price outside the loop to have correct scope\n",
    "diff = 100\n",
    "\n",
    "# Loop through solution algorithm until tolerance is met\n",
    "while diff > 1e-8\n",
    "    # Save old acreage\n",
    "    aold = a\n",
    "    # Get price at all the quadrature nodes y\n",
    "    p = 3.-2.*a*y\n",
    "    # Compute expected price with price floor\n",
    "    expectation = w'*max(p,1)\n",
    "    # Get new acreage planted given new price\n",
    "    a = 0.5 + 0.5*expectation[1]\n",
    "    # Get difference between old and new acreage\n",
    "    diff = abs(a-aold)\n",
    "end\n",
    "\n",
    "println(\"The optimal number of acres planted is $(round(a*1000)/1000).\")\n",
    "println(\"The expected price is $(round((w'*max(p,1))[1]*1000)/1000).\")"
   ]
  },
  {
   "cell_type": "markdown",
   "metadata": {},
   "source": [
    "# Problem 3\n",
    "\n",
    "Test the time to invert increasing large matrices."
   ]
  },
  {
   "cell_type": "code",
   "execution_count": null,
   "metadata": {
    "collapsed": false
   },
   "outputs": [],
   "source": [
    "# Initialize matrices\n",
    "A100 = rand(100,100)\n",
    "A1000 = rand(1000,1000)\n",
    "A10000 = rand(10000,10000)\n",
    "\n",
    "@time invA100 = inv(A100)"
   ]
  },
  {
   "cell_type": "code",
   "execution_count": null,
   "metadata": {
    "collapsed": false,
    "scrolled": true
   },
   "outputs": [],
   "source": [
    "@time invA1000 = inv(A1000)"
   ]
  },
  {
   "cell_type": "code",
   "execution_count": null,
   "metadata": {
    "collapsed": false,
    "scrolled": true
   },
   "outputs": [],
   "source": [
    "@time invA10000 = inv(A10000)"
   ]
  },
  {
   "cell_type": "markdown",
   "metadata": {},
   "source": [
    "What is machine epsilon, machine zero and machine infinity in Julia?"
   ]
  },
  {
   "cell_type": "code",
   "execution_count": null,
   "metadata": {
    "collapsed": false
   },
   "outputs": [],
   "source": [
    "println(\"Machine epsilon is $(eps()).\")\n",
    "\n",
    "1+eps()/2 > 1"
   ]
  },
  {
   "cell_type": "code",
   "execution_count": null,
   "metadata": {
    "collapsed": false
   },
   "outputs": [],
   "source": [
    "println(\"Machine zero is $(realmin()).\")"
   ]
  },
  {
   "cell_type": "code",
   "execution_count": null,
   "metadata": {
    "collapsed": false
   },
   "outputs": [],
   "source": [
    "println(\"Machine infinity is $(realmax()).\")"
   ]
  },
  {
   "cell_type": "markdown",
   "metadata": {},
   "source": [
    "# Problem 4\n",
    "Compute one-sided finite differences of x^2 at x=2 for differences of $h=1e-8, 1e-12, 1e-30, 1e-1$."
   ]
  },
  {
   "cell_type": "code",
   "execution_count": null,
   "metadata": {
    "collapsed": false
   },
   "outputs": [],
   "source": [
    "# Finite-difference as a function of the difference h and value x\n",
    "x_sq_deriv(h,x) = ((x+h)^2 - x^2)/h\n",
    "\n",
    "# Display several finite differences\n",
    "println(x_sq_deriv(1.e-8,2.))\n",
    "println(x_sq_deriv(1.e-12,2.))\n",
    "println(x_sq_deriv(1.e-30,2.))\n",
    "println(x_sq_deriv(1.e-1,2.))"
   ]
  },
  {
   "cell_type": "markdown",
   "metadata": {},
   "source": [
    "# Problem 5\n",
    "Compute the same inverse with two different inversion techniques, the standard inversion algorithm and LU-Factorization."
   ]
  },
  {
   "cell_type": "code",
   "execution_count": null,
   "metadata": {
    "collapsed": false
   },
   "outputs": [],
   "source": [
    "A = rand(10000,10000)\n",
    "@time inv1 = inv(A)\n",
    "@time inv2 = A\\eye(10000,10000)\n",
    "println(\"The maximum relative error is $(maximum((inv1-inv2)./inv1)).\")"
   ]
  },
  {
   "cell_type": "markdown",
   "metadata": {},
   "source": [
    "# Problem 6\n",
    "Are these two expressions numerically equivalent?"
   ]
  },
  {
   "cell_type": "code",
   "execution_count": null,
   "metadata": {
    "collapsed": false
   },
   "outputs": [],
   "source": [
    "x = (1e-20 + 1) -1\n",
    "y = 1e-20 + (1 - 1)\n",
    "\n",
    "# Logical Statement ? Do this if true : else do this\n",
    "x==y ? println(\"Equivalent!\") : println(\"Truncation error!\")"
   ]
  },
  {
   "cell_type": "markdown",
   "metadata": {},
   "source": [
    "# Problem 7\n",
    "Are these two expressions numerically equivalent?"
   ]
  },
  {
   "cell_type": "code",
   "execution_count": null,
   "metadata": {
    "collapsed": false
   },
   "outputs": [],
   "source": [
    "x = 100000.2 - 100000.1\n",
    "y = .1\n",
    "\n",
    "# Logical Statement ? Do this if true : else do this\n",
    "x==y ? println(\"Equivalent!\") : println(\"Truncation error!\")"
   ]
  }
 ],
 "metadata": {
  "kernelspec": {
   "display_name": "Julia 0.5.2",
   "language": "julia",
   "name": "julia-0.5"
  },
  "language_info": {
   "file_extension": ".jl",
   "mimetype": "application/julia",
   "name": "julia",
   "version": "0.5.2"
  }
 },
 "nbformat": 4,
 "nbformat_minor": 2
}
